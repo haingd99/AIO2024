{
 "cells": [
  {
   "cell_type": "markdown",
   "metadata": {},
   "source": [
    "# 1. Viết class và cài phương thức softmax.\n",
    "Trong pytorch, torch.nn.Module là lớp cơ bản để từ đó xây dựng lên các mô hình hoặc các phương thức kích hoạt (activation funtion) như sigmoid, softmax,... Trong phần này, chúng ta xây dựng class Softmax và softmax_stable nhận đầu vào là mảng 1 chiều (tensor 1 chiều) dựa vào kế thừa từ lớp Module và ghi đè vào phương thức forward() theo công thức sau đây:\n",
    "\n",
    "$ softmax(x_j) = \\frac{exp(x_j)}{\\sum_{j=1}^{n}exp(x_j)}$\n",
    "\n",
    "\n",
    "$ softmax\\_stable(x_j) = \\frac{exp(x_j-c)}{\\sum_{j=1}^{n}exp(x_j-c)}$\n",
    "\n",
    "with $c = max(x)$\n",
    "    \n",
    "\n",
    "\n"
   ]
  },
  {
   "cell_type": "code",
   "execution_count": 10,
   "metadata": {},
   "outputs": [],
   "source": [
    "from zutils import Softmax, Softmax_stable\n",
    "import torch"
   ]
  },
  {
   "cell_type": "code",
   "execution_count": 11,
   "metadata": {},
   "outputs": [
    {
     "data": {
      "text/plain": [
       "tensor([0.0900, 0.2447, 0.6652])"
      ]
     },
     "execution_count": 11,
     "metadata": {},
     "output_type": "execute_result"
    }
   ],
   "source": [
    "# Test softmax\n",
    "\n",
    "data = torch.Tensor ([1, 2, 3])\n",
    "softmax = Softmax()\n",
    "output = softmax(data)\n",
    "output"
   ]
  },
  {
   "cell_type": "code",
   "execution_count": 12,
   "metadata": {},
   "outputs": [
    {
     "data": {
      "text/plain": [
       "tensor([0.0900, 0.2447, 0.6652])"
      ]
     },
     "execution_count": 12,
     "metadata": {},
     "output_type": "execute_result"
    }
   ],
   "source": [
    "# Test softmax_stable\n",
    "data = torch.Tensor ([1, 2, 3])\n",
    "softmax_stable = Softmax_stable()\n",
    "output = softmax_stable(data)\n",
    "output"
   ]
  },
  {
   "cell_type": "markdown",
   "metadata": {},
   "source": [
    "# 2. Một Ward (phường) gồm có name (string) và danh sách của mọi người trong Ward.\n",
    "Một người person có thể là student, doctor, hoặc teacher. Một student gồm có name,\n",
    "yob (int) (năm sinh), và grade (string). Một teacher gồm có name, yob, và subject\n",
    "(string). Một doctor gồm có name, yob, và specialist (string). Lưu ý cần sử dụng a\n",
    "list để chứa danh sách của mọi người trong Ward.\n",
    "\n",
    "1. Cài đặt các class Student, Doctor, và Teacher theo mô tả trên. Thực hiện phương thức\n",
    "describe() method để in ra tất cả thông tin của các object.\n",
    "\n",
    "2. Viết add_person(person) method trong Ward class để add thêm một người mới với nghề\n",
    "nghiệp bất kỳ (student, teacher, doctor) vào danh sách người của ward. Tạo ra một ward\n",
    "object, và thêm vào 1 student, 2 teacher, và 2 doctor. Thực hiện describe() method để in ra tên ward (name) và toàn bộ thông tin của từng người trong ward.\n",
    "\n",
    "3. Viết count_doctor() method để đếm số lượng doctor trong ward.\n",
    "\n",
    "4. Viết sort_age() method để sort mọi người trong ward theo tuổi của họ với thứ tự tăng dần. \n",
    "\n",
    "    (hint: Có thể sử dụng sort của list hoặc viết thêm function đều được)\n",
    "\n",
    "5. Viết compute_average() method để tính trung bình năm sinh của các teachers trong ward."
   ]
  },
  {
   "cell_type": "code",
   "execution_count": 13,
   "metadata": {},
   "outputs": [
    {
     "name": "stdout",
     "output_type": "stream",
     "text": [
      "Nam\n",
      "2000\n",
      "12th\n",
      "Student - Name: Nam - YoB: 2000 - Grade: 12th\n",
      "Hung\n",
      "2001\n",
      "11\n",
      "Student - Name: Hung - YoB: 2001 - Grade: 11\n"
     ]
    }
   ],
   "source": [
    "from zutils import Student, Teacher, Doctor, Ward\n",
    "\n",
    "student = Student(\"Nam\", yob=2000, grade=\"12th\")\n",
    "print(student.name)\n",
    "print(student.yob)\n",
    "print(student.grade)\n",
    "print(student.describe())\n",
    "\n",
    "student1 = Student(\"Hung\", yob=2001, grade=\"11\")\n",
    "print(student1.name)\n",
    "print(student1.yob)\n",
    "print(student1.grade)\n",
    "print(student1.describe())"
   ]
  },
  {
   "cell_type": "code",
   "execution_count": 14,
   "metadata": {},
   "outputs": [
    {
     "name": "stdout",
     "output_type": "stream",
     "text": [
      "Hoa\n",
      "1999\n",
      "Math\n"
     ]
    },
    {
     "data": {
      "text/plain": [
       "'Teacher - Name: Hoa - YoB: 1999 - Subject: Math'"
      ]
     },
     "execution_count": 14,
     "metadata": {},
     "output_type": "execute_result"
    }
   ],
   "source": [
    "teacher = Teacher(\"Hoa\", 1999, \"Math\")\n",
    "print(teacher.name)\n",
    "print(teacher.yob)\n",
    "print(teacher.subject)\n",
    "teacher.describe()"
   ]
  },
  {
   "cell_type": "code",
   "execution_count": 15,
   "metadata": {},
   "outputs": [
    {
     "name": "stdout",
     "output_type": "stream",
     "text": [
      "Smith\n",
      "1969\n",
      "Dental\n"
     ]
    },
    {
     "data": {
      "text/plain": [
       "'Doctor - Name: Smith - YoB: 1969 - Specialist: Dental'"
      ]
     },
     "execution_count": 15,
     "metadata": {},
     "output_type": "execute_result"
    }
   ],
   "source": [
    "doctor = Doctor(\"Smith\", 1969, \"Dental\")\n",
    "print(doctor.name)\n",
    "print(doctor.yob)\n",
    "print(doctor.specialist)\n",
    "doctor.describe()"
   ]
  },
  {
   "cell_type": "code",
   "execution_count": 16,
   "metadata": {},
   "outputs": [
    {
     "name": "stdout",
     "output_type": "stream",
     "text": [
      "Ward Namw: Ben Nghe\n",
      "Student - Name: Nam - YoB: 2000 - Grade: 12th\n",
      "Student - Name: Hung - YoB: 2001 - Grade: 11\n",
      "Teacher - Name: Hoa - YoB: 1999 - Subject: Math\n",
      "Teacher - Name: Linh - YoB: 2005 - Subject: Literature\n",
      "Doctor - Name: Smith - YoB: 1969 - Specialist: Dental\n"
     ]
    }
   ],
   "source": [
    "ward = Ward(ward_name=\"Ben Nghe\")\n",
    "ward.add_people(person=student)\n",
    "ward.add_people(person=student1)\n",
    "ward.add_people(person=teacher)\n",
    "ward.add_people(person=Teacher(name=\"Linh\", yob=2005, subject=\"Literature\"))\n",
    "ward.add_people(person=doctor)\n",
    "ward.describe()"
   ]
  },
  {
   "cell_type": "code",
   "execution_count": 17,
   "metadata": {},
   "outputs": [
    {
     "data": {
      "text/plain": [
       "1"
      ]
     },
     "execution_count": 17,
     "metadata": {},
     "output_type": "execute_result"
    }
   ],
   "source": [
    "# Count Doctor\n",
    "ward.count_docter()"
   ]
  },
  {
   "cell_type": "code",
   "execution_count": 18,
   "metadata": {},
   "outputs": [
    {
     "data": {
      "text/plain": [
       "2002.0"
      ]
     },
     "execution_count": 18,
     "metadata": {},
     "output_type": "execute_result"
    }
   ],
   "source": [
    "ward.compute_teachers_yob_avg()"
   ]
  },
  {
   "cell_type": "code",
   "execution_count": null,
   "metadata": {},
   "outputs": [],
   "source": []
  }
 ],
 "metadata": {
  "kernelspec": {
   "display_name": "Python 3",
   "language": "python",
   "name": "python3"
  },
  "language_info": {
   "codemirror_mode": {
    "name": "ipython",
    "version": 3
   },
   "file_extension": ".py",
   "mimetype": "text/x-python",
   "name": "python",
   "nbconvert_exporter": "python",
   "pygments_lexer": "ipython3",
   "version": "3.11.9"
  }
 },
 "nbformat": 4,
 "nbformat_minor": 2
}
