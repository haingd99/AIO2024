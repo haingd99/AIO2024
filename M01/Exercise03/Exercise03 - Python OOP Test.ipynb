{
 "cells": [
  {
   "cell_type": "markdown",
   "metadata": {},
   "source": [
    "# 1. Viết class và cài phương thức softmax.\n",
    "Trong pytorch, torch.nn.Module là lớp cơ bản để từ đó xây dựng lên các mô hình hoặc các phương thức kích hoạt (activation funtion) như sigmoid, softmax,... Trong phần này, chúng ta xây dựng class Softmax và softmax_stable nhận đầu vào là mảng 1 chiều (tensor 1 chiều) dựa vào kế thừa từ lớp Module và ghi đè vào phương thức forward() theo công thức sau đây:\n",
    "\n",
    "$ softmax(x_j) = \\frac{exp(x_j)}{\\sum_{j=1}^{n}exp(x_j)}$\n",
    "\n",
    "\n",
    "$ softmax\\_stable(x_j) = \\frac{exp(x_j-c)}{\\sum_{j=1}^{n}exp(x_j-c)}$\n",
    "\n",
    "with $c = max(x)$\n",
    "    \n",
    "\n",
    "\n"
   ]
  },
  {
   "cell_type": "code",
   "execution_count": 6,
   "metadata": {},
   "outputs": [],
   "source": [
    "from zutils import Softmax, Softmax_stable\n",
    "import torch"
   ]
  },
  {
   "cell_type": "code",
   "execution_count": 7,
   "metadata": {},
   "outputs": [
    {
     "data": {
      "text/plain": [
       "tensor([0.0900, 0.2447, 0.6652])"
      ]
     },
     "execution_count": 7,
     "metadata": {},
     "output_type": "execute_result"
    }
   ],
   "source": [
    "# Test softmax\n",
    "\n",
    "data = torch.Tensor ([1, 2, 3])\n",
    "softmax = Softmax()\n",
    "output = softmax(data)\n",
    "output"
   ]
  },
  {
   "cell_type": "code",
   "execution_count": 8,
   "metadata": {},
   "outputs": [
    {
     "data": {
      "text/plain": [
       "tensor([0.0900, 0.2447, 0.6652])"
      ]
     },
     "execution_count": 8,
     "metadata": {},
     "output_type": "execute_result"
    }
   ],
   "source": [
    "# Test softmax_stable\n",
    "data = torch.Tensor ([1, 2, 3])\n",
    "softmax_stable = Softmax_stable()\n",
    "output = softmax_stable(data)\n",
    "output"
   ]
  },
  {
   "cell_type": "markdown",
   "metadata": {},
   "source": [
    "# 2. Một Ward (phường) gồm có name (string) và danh sách của mọi người trong Ward.\n",
    "Một người person có thể là student, doctor, hoặc teacher. Một student gồm có name,\n",
    "yob (int) (năm sinh), và grade (string). Một teacher gồm có name, yob, và subject\n",
    "(string). Một doctor gồm có name, yob, và specialist (string). Lưu ý cần sử dụng a\n",
    "list để chứa danh sách của mọi người trong Ward.\n",
    "\n",
    "1. Cài đặt các class Student, Doctor, và Teacher theo mô tả trên. Thực hiện phương thức\n",
    "describe() method để in ra tất cả thông tin của các object.\n",
    "\n",
    "2. Viết add_person(person) method trong Ward class để add thêm một người mới với nghề\n",
    "nghiệp bất kỳ (student, teacher, doctor) vào danh sách người của ward. Tạo ra một ward\n",
    "object, và thêm vào 1 student, 2 teacher, và 2 doctor. Thực hiện describe() method để in ra tên ward (name) và toàn bộ thông tin của từng người trong ward.\n",
    "\n",
    "3. Viết count_doctor() method để đếm số lượng doctor trong ward.\n",
    "\n",
    "4. Viết sort_age() method để sort mọi người trong ward theo tuổi của họ với thứ tự tăng dần. \n",
    "\n",
    "    (hint: Có thể sử dụng sort của list hoặc viết thêm function đều được)\n",
    "\n",
    "5. Viết compute_average() method để tính trung bình năm sinh của các teachers trong ward."
   ]
  },
  {
   "cell_type": "code",
   "execution_count": 9,
   "metadata": {},
   "outputs": [
    {
     "name": "stdout",
     "output_type": "stream",
     "text": [
      "Nam\n",
      "2000\n",
      "12th\n",
      "Student - Name: Nam - YoB: 2000 - Grade: 12th\n",
      "Hung\n",
      "2001\n",
      "11\n",
      "Student - Name: Hung - YoB: 2001 - Grade: 11\n"
     ]
    }
   ],
   "source": [
    "from zutils import Student, Teacher, Doctor, Ward\n",
    "\n",
    "student = Student(\"Nam\", yob=2000, grade=\"12th\")\n",
    "print(student.name)\n",
    "print(student.yob)\n",
    "print(student.grade)\n",
    "print(student.describe())\n",
    "\n",
    "student1 = Student(\"Hung\", yob=2001, grade=\"11\")\n",
    "print(student1.name)\n",
    "print(student1.yob)\n",
    "print(student1.grade)\n",
    "print(student1.describe())"
   ]
  },
  {
   "cell_type": "code",
   "execution_count": 10,
   "metadata": {},
   "outputs": [
    {
     "name": "stdout",
     "output_type": "stream",
     "text": [
      "Hoa\n",
      "1999\n",
      "Math\n"
     ]
    },
    {
     "data": {
      "text/plain": [
       "'Teacher - Name: Hoa - YoB: 1999 - Subject: Math'"
      ]
     },
     "execution_count": 10,
     "metadata": {},
     "output_type": "execute_result"
    }
   ],
   "source": [
    "teacher = Teacher(\"Hoa\", 1999, \"Math\")\n",
    "print(teacher.name)\n",
    "print(teacher.yob)\n",
    "print(teacher.subject)\n",
    "teacher.describe()"
   ]
  },
  {
   "cell_type": "code",
   "execution_count": 11,
   "metadata": {},
   "outputs": [
    {
     "name": "stdout",
     "output_type": "stream",
     "text": [
      "Smith\n",
      "1969\n",
      "Dental\n"
     ]
    },
    {
     "data": {
      "text/plain": [
       "'Doctor - Name: Smith - YoB: 1969 - Specialist: Dental'"
      ]
     },
     "execution_count": 11,
     "metadata": {},
     "output_type": "execute_result"
    }
   ],
   "source": [
    "doctor = Doctor(\"Smith\", 1969, \"Dental\")\n",
    "print(doctor.name)\n",
    "print(doctor.yob)\n",
    "print(doctor.specialist)\n",
    "doctor.describe()"
   ]
  },
  {
   "cell_type": "code",
   "execution_count": 12,
   "metadata": {},
   "outputs": [
    {
     "name": "stdout",
     "output_type": "stream",
     "text": [
      "Ward Namw: Ben Nghe\n",
      "Student - Name: Nam - YoB: 2000 - Grade: 12th\n",
      "Student - Name: Hung - YoB: 2001 - Grade: 11\n",
      "Teacher - Name: Hoa - YoB: 1999 - Subject: Math\n",
      "Teacher - Name: Linh - YoB: 2005 - Subject: Literature\n",
      "Doctor - Name: Smith - YoB: 1969 - Specialist: Dental\n"
     ]
    }
   ],
   "source": [
    "ward = Ward(ward_name=\"Ben Nghe\")\n",
    "ward.add_people(person=student)\n",
    "ward.add_people(person=student1)\n",
    "ward.add_people(person=teacher)\n",
    "ward.add_people(person=Teacher(name=\"Linh\", yob=2005, subject=\"Literature\"))\n",
    "ward.add_people(person=doctor)\n",
    "ward.describe()"
   ]
  },
  {
   "cell_type": "code",
   "execution_count": 13,
   "metadata": {},
   "outputs": [
    {
     "data": {
      "text/plain": [
       "1"
      ]
     },
     "execution_count": 13,
     "metadata": {},
     "output_type": "execute_result"
    }
   ],
   "source": [
    "# Count Doctor\n",
    "ward.count_docter()"
   ]
  },
  {
   "cell_type": "code",
   "execution_count": 14,
   "metadata": {},
   "outputs": [
    {
     "data": {
      "text/plain": [
       "2002.0"
      ]
     },
     "execution_count": 14,
     "metadata": {},
     "output_type": "execute_result"
    }
   ],
   "source": [
    "ward.compute_teachers_yob_avg()"
   ]
  },
  {
   "cell_type": "markdown",
   "metadata": {},
   "source": [
    "# 3. Thực hiện xây dựng class Stack với các phương thức (method) sau đây\n",
    "\n",
    "• initialization method nhận một input \"capacity\": dùng để khởi tạo stack với capacity là số lượng element mà stack có thể chứa\n",
    "\n",
    "• .is_empty(): kiểm tra stack có đang rỗng\n",
    "\n",
    "• .is_full(): kiểm tra stack đã full chưa\n",
    "\n",
    "• .pop(): loại bỏ top element và trả về giá trị đó\n",
    "\n",
    "• .push(value) add thêm value vào trong stack\n",
    "\n",
    "• .top() lấy giá trị top element hiện tại của stack, nhưng không loại bỏ giá trị đó"
   ]
  },
  {
   "cell_type": "code",
   "execution_count": 15,
   "metadata": {},
   "outputs": [
    {
     "name": "stdout",
     "output_type": "stream",
     "text": [
      "True\n",
      "[1]\n",
      "False\n",
      "[1, 2]\n",
      "[1, 2, 3]\n",
      "The stack is full.\n",
      "[1, 2, 3]\n"
     ]
    },
    {
     "data": {
      "text/plain": [
       "3"
      ]
     },
     "execution_count": 15,
     "metadata": {},
     "output_type": "execute_result"
    }
   ],
   "source": [
    "from zutils import Stack\n",
    "\n",
    "stack = Stack(capacity=3)\n",
    "\n",
    "print(stack.is_empty())\n",
    "\n",
    "stack.push(1)\n",
    "stack.describe()\n",
    "print(stack.is_empty())\n",
    "stack.push(2)\n",
    "stack.describe()\n",
    "stack.push(3)\n",
    "stack.describe()\n",
    "stack.push(4)\n",
    "stack.describe()\n",
    "stack.pop()"
   ]
  },
  {
   "cell_type": "code",
   "execution_count": 16,
   "metadata": {},
   "outputs": [
    {
     "name": "stdout",
     "output_type": "stream",
     "text": [
      "The stack is full.\n",
      "[1, 2, 4]\n",
      "4\n",
      "[1, 2]\n"
     ]
    }
   ],
   "source": [
    "stack.push(4)\n",
    "stack.push(5)\n",
    "stack.describe()\n",
    "print(stack.pop())\n",
    "stack.describe()"
   ]
  },
  {
   "cell_type": "code",
   "execution_count": 17,
   "metadata": {},
   "outputs": [
    {
     "data": {
      "text/plain": [
       "2"
      ]
     },
     "execution_count": 17,
     "metadata": {},
     "output_type": "execute_result"
    }
   ],
   "source": [
    "stack.top()"
   ]
  },
  {
   "cell_type": "markdown",
   "metadata": {},
   "source": [
    "# 4. Thực hiện xây dựng class Queue với các chức năng (method) sau đây\n",
    "\n",
    "• initialization method nhận một input \"capacity\": dùng để khởi tạo queue với capacity là số lượng element mà queue có thể chứa\n",
    "\n",
    "• .is_empty(): kiểm tra queue có đang rỗng\n",
    "\n",
    "• .is_full(): kiểm tra queue đã full chưa\n",
    "\n",
    "• .dequeue(): loại bỏ first element và trả về giá trị đó\n",
    "\n",
    "• .enqueue(value) add thêm value vào trong queue\n",
    "\n",
    "• .front() lấy giá trị first element hiện tại của queue, nhưng không loại bỏ giá trị đó"
   ]
  },
  {
   "cell_type": "code",
   "execution_count": 18,
   "metadata": {},
   "outputs": [
    {
     "name": "stdout",
     "output_type": "stream",
     "text": [
      "True\n",
      "False\n",
      "[1, 2, 3, 4]\n",
      "The queue is full.\n",
      "1\n",
      "1\n",
      "[2, 3, 4]\n"
     ]
    }
   ],
   "source": [
    "from zutils import Queue\n",
    "\n",
    "q = Queue(capacity=4)\n",
    "\n",
    "# check is empty \n",
    "print(q.is_empty())\n",
    "\n",
    "# check full:\n",
    "print(q.is_full())\n",
    "\n",
    "# Add value\n",
    "q.enqueue(1)\n",
    "q.enqueue(2)\n",
    "q.enqueue(3)\n",
    "q.enqueue(4)\n",
    "\n",
    "#Print the queue\n",
    "q.describe()\n",
    "q.enqueue(5)\n",
    "# Get first element\n",
    "q.front()\n",
    "\n",
    "# remove first element\n",
    "q.dequeue()\n",
    "q.describe()\n",
    "\n",
    "\n"
   ]
  },
  {
   "cell_type": "markdown",
   "metadata": {},
   "source": [
    "# 5. Câu hỏi trắc nghiệm"
   ]
  },
  {
   "cell_type": "markdown",
   "metadata": {},
   "source": [
    "## 5.1 Kết quả của đoạn code dưới đây là bao nhiêu\n",
    "import torch\n",
    "\n",
    "\n",
    "2 import torch .nn as nn\n",
    "\n",
    "3 4\n",
    "\n",
    "data = torch . Tensor ([1 , 2, 3])\n",
    "\n",
    "5 softmax_function = nn. Softmax (dim =0)\n",
    "\n",
    "6 output = softmax_function ( data )\n",
    "\n",
    "7 assert round ( output [0]. item () , 2) == 0.09\n",
    "\n",
    "8 output\n",
    "\n",
    "a) [0.0900, 0.2747, 0.6652]\n",
    "\n",
    "b) [0.0700, 0.2447, 0.6652]\n",
    "\n",
    "c) [0.0900, 0.2447, 0.6652]\n",
    "\n",
    "d) [0.1900, 0.2447, 0.6692]\n"
   ]
  },
  {
   "cell_type": "code",
   "execution_count": 19,
   "metadata": {},
   "outputs": [
    {
     "data": {
      "text/plain": [
       "tensor([0.0900, 0.2447, 0.6652])"
      ]
     },
     "execution_count": 19,
     "metadata": {},
     "output_type": "execute_result"
    }
   ],
   "source": [
    "data = torch.Tensor ([1 , 2, 3])\n",
    "softmax(data)"
   ]
  },
  {
   "cell_type": "markdown",
   "metadata": {},
   "source": [
    "## 5.2 Hoàn thành đoạn code sau đây theo công thức tính softmax.\n"
   ]
  },
  {
   "cell_type": "markdown",
   "metadata": {},
   "source": [
    "import torch\n",
    "import torch .nn as nn\n",
    "\n",
    "class MySoftmax (nn. Module ):\n",
    "def __init__ ( self ):\n",
    "super (). __init__ ()\n",
    "\n",
    "def forward (self , x):\n",
    "======Code here ======\n",
    "\n",
    "data = torch . Tensor ([5 , 2, 4])\n",
    "my_softmax = MySoftmax ()\n",
    "output = my_softmax ( data )\n",
    "assert round ( output [ -1]. item () , 2) == 0.26\n",
    "17 output\n",
    "\n",
    "\n",
    "a) [0.0900, 0.2747, 0.6652]\n",
    "\n",
    "b) [0.7054, 0.0351, 0.2595]\n",
    "\n",
    "c) [0.0900, 0.2447, 0.6652]\n",
    "\n",
    "d) [0.7054, 0.0351, 0.009]"
   ]
  },
  {
   "cell_type": "code",
   "execution_count": 20,
   "metadata": {},
   "outputs": [
    {
     "name": "stdout",
     "output_type": "stream",
     "text": [
      "tensor([0.7054, 0.0351, 0.2595])\n"
     ]
    }
   ],
   "source": [
    "import torch\n",
    "import torch .nn as nn\n",
    "\n",
    "class MySoftmax (nn. Module ):\n",
    "    def __init__ ( self ):\n",
    "        super (). __init__ ()\n",
    "\n",
    "    def forward (self , x):\n",
    "    ### Your Code Here\n",
    "        exp_x = torch.exp(x)\n",
    "        exp_sum = torch.sum(exp_x)\n",
    "        softmax = exp_x / exp_sum \n",
    "        return softmax\n",
    "    ### End Code Here\n",
    "\n",
    "data = torch . Tensor ([5 , 2, 4])\n",
    "my_softmax = MySoftmax ()\n",
    "output = my_softmax ( data )\n",
    "print(output)\n",
    "assert round ( output [ -1]. item () , 2) == 0.26"
   ]
  },
  {
   "cell_type": "markdown",
   "metadata": {},
   "source": [
    "## 5.3 Hoàn thành đoạn code sau đây theo công thức tính softmax \n",
    "\n",
    "a) [0.0900, 0.2747, 0.6652]\n",
    "\n",
    "b) [0.7054, 0.0351, 0.2595]\n",
    "\n",
    "c) [0., 0., nan]\n",
    "\n",
    "d) [0.7054, 0.0351, 0.009]"
   ]
  },
  {
   "cell_type": "code",
   "execution_count": 21,
   "metadata": {},
   "outputs": [
    {
     "data": {
      "text/plain": [
       "tensor([0., 0., nan])"
      ]
     },
     "execution_count": 21,
     "metadata": {},
     "output_type": "execute_result"
    }
   ],
   "source": [
    "class MySoftmax (nn.Module):\n",
    "    def __init__(self, *args, **kwargs) -> None:\n",
    "        super().__init__(*args, **kwargs)\n",
    "\n",
    "    def forward(self, x):\n",
    "        exp_x = torch.exp(x)\n",
    "        exp_sum = torch.sum(exp_x)\n",
    "        softmax = exp_x / exp_sum \n",
    "        return softmax\n",
    "\n",
    "data = torch . Tensor ([1 , 2, 300000000])\n",
    "my_softmax = MySoftmax ()\n",
    "output = my_softmax ( data )\n",
    "\n",
    "assert round ( output [0]. item () , 2) == 0.0\n",
    "output"
   ]
  },
  {
   "cell_type": "markdown",
   "metadata": {},
   "source": [
    "## 5.4 Hoàn thành đoạn code sau đây theo công thức tính stable softmax\n",
    "a) [0.0900, 0.2747, 0.6652]\n",
    "\n",
    "b) [0.0900, 0.2447, 0.6652]\n",
    "\n",
    "c) [0., 0., nan]\n",
    "\n",
    "d) [0.7054, 0.0351, 0.009]"
   ]
  },
  {
   "cell_type": "code",
   "execution_count": 22,
   "metadata": {},
   "outputs": [
    {
     "data": {
      "text/plain": [
       "tensor([0.0900, 0.2447, 0.6652])"
      ]
     },
     "execution_count": 22,
     "metadata": {},
     "output_type": "execute_result"
    }
   ],
   "source": [
    "data = torch . Tensor ([1 , 2, 3])\n",
    "softmax_stable = Softmax_stable()\n",
    "output = softmax_stable ( data )\n",
    "assert round ( output [ -1]. item () , 2) == 0.67\n",
    "output"
   ]
  },
  {
   "cell_type": "markdown",
   "metadata": {},
   "source": [
    "## 5.5 Một người (person) có thể là student, doctor, hoặc teacher. Một student gồm có name\n",
    "(string), yob (int) (năm sinh), và grade (string). Các bạn thực hiện viết class Student theo mô tả\n",
    "trên (Các bạn sẽ viết thêm describe() method để print ra tất cả thông tin của object) và kết quả\n",
    "đầu ra là gì? Chọn đáp án đúng nhất bên dưới.\n",
    "\n",
    "a) Student - Name: studentZ2023 - YoB: 2011 - Grade: 6\n",
    "\n",
    "b) Student - Name: studentZ2023 - YoB: 6 - Grade: 2011\n",
    "\n",
    "c) Student - Name: 6 - YoB: studentZ2023 - Grade: 2011\n",
    "\n",
    "d) Tất cả đều sai\n"
   ]
  },
  {
   "cell_type": "code",
   "execution_count": 27,
   "metadata": {},
   "outputs": [
    {
     "data": {
      "text/plain": [
       "'Student - Name:  studentZ2023  - YoB: 2011 - Grade: 6'"
      ]
     },
     "execution_count": 27,
     "metadata": {},
     "output_type": "execute_result"
    }
   ],
   "source": [
    "student1 = Student ( name =\" studentZ2023 \", yob =2011 , grade =\"6\")\n",
    "assert student1.yob == 2011\n",
    "student1.describe ()"
   ]
  },
  {
   "cell_type": "markdown",
   "metadata": {},
   "source": [
    "## 5.6 Một người (person) có thể là student, doctor, hoặc teacher. Một teacher gồm có name\n",
    "(string), yob (int), và subject (string). Các bạn thực hiện viết class Teacher theo mô tả trên (Các\n",
    "bạn sẽ viết thêm describe() method để print ra tất cả thông tin của object) và kết quả đầu ra là\n",
    "gì? Chọn đáp án đúng nhất bên dưới.\n",
    "\n",
    "a) Teacher - Name: 1991 - YoB: teacherZ2023 - Subject: History\n",
    "\n",
    "b) Teacher - Name: teacherZ2023 - YoB: 1991 - Subject: History\n",
    "\n",
    "c) Teacher - Name: History - YoB: teacherZ2023 - Subject: 1991\n",
    "\n",
    "d) Tất cả đều sai"
   ]
  },
  {
   "cell_type": "code",
   "execution_count": 29,
   "metadata": {},
   "outputs": [
    {
     "data": {
      "text/plain": [
       "'Teacher - Name:  teacherZ2023  - YoB: 1991 - Subject:  History '"
      ]
     },
     "execution_count": 29,
     "metadata": {},
     "output_type": "execute_result"
    }
   ],
   "source": [
    "from zutils import Teacher\n",
    "teacher1 = Teacher ( name =\" teacherZ2023 \", yob =1991 , subject =\" History \")\n",
    "assert teacher1.yob == 1991\n",
    "teacher1 . describe ()"
   ]
  },
  {
   "cell_type": "markdown",
   "metadata": {},
   "source": [
    "## 5.7 Một người (person) có thể là student, doctor, hoặc teacher. Một doctor gồm có name\n",
    "(string), yob (string), và specialist (string). Các bạn thực hiện viết class Teacher theo mô tả trên\n",
    "(Các bạn sẽ viết thêm describe() method để print ra tất cả thông tin của object) và kết quả đầu\n",
    "ra là gì? Chọn đáp án đúng nhất bên dưới.\n",
    "\n",
    "a) Doctor - Name: doctorZ2023 - YoB: 1981 - Specialist: Endocrinologists\n",
    "\n",
    "b) Doctor - Name: 1981 - YoB: doctorZ2023 - Specialist: Endocrinologists\n",
    "\n",
    "c) Teacher - Name: History - YoB: teacherZ2023 - Subject: 1991\n",
    "\n",
    "d) Tất cả đều sai"
   ]
  },
  {
   "cell_type": "code",
   "execution_count": 30,
   "metadata": {},
   "outputs": [
    {
     "data": {
      "text/plain": [
       "'Doctor - Name:  doctorZ2023  - YoB: 1981 - Specialist:  Endocrinologists '"
      ]
     },
     "execution_count": 30,
     "metadata": {},
     "output_type": "execute_result"
    }
   ],
   "source": [
    "from zutils import Doctor\n",
    "\n",
    "doctor1 = Doctor ( name =\" doctorZ2023 \", yob =1981 , specialist =\" Endocrinologists \")\n",
    "assert doctor1.yob == 1981\n",
    "doctor1 . describe ()"
   ]
  },
  {
   "cell_type": "markdown",
   "metadata": {},
   "source": [
    "## 5.8 Một Ward gồm có name (string) và danh sách của mọi người trong Ward. Một người\n",
    "person có thể là student, doctor, hoặc teacher và cần sử dụng một list để chứa danh sách của mọi\n",
    "người trong Ward. Viết add_person(person) method trong Ward class để add thêm một người\n",
    "mới với nghề nghiệp bất kỳ (student, teacher, doctor) vào danh sách người của ward. Tạo ra một\n",
    "ward object, và thêm vào 1 student, 2 teacher, và 2 doctor. Thực hiện describe() method để in ra\n",
    "tên ward (name) và toàn bộ thông tin của từng người trong ward. Chọn đáp án đúng nhất bên\n",
    "dưới cho phương thức đếm số lượng doctor.\n",
    "\n",
    "a) 4\n",
    "\n",
    "b) 3\n",
    "\n",
    "c) 2\n",
    "\n",
    "d) 1"
   ]
  },
  {
   "cell_type": "code",
   "execution_count": 3,
   "metadata": {},
   "outputs": [
    {
     "data": {
      "text/plain": [
       "2"
      ]
     },
     "execution_count": 3,
     "metadata": {},
     "output_type": "execute_result"
    }
   ],
   "source": [
    "from zutils import Ward, Student, Teacher, Doctor\n",
    "student1 = Student ( name =\" studentA \", yob =2010 , grade =\"7\")\n",
    "teacher1 = Teacher ( name =\" teacherA \", yob =1969 , subject =\" Math \")\n",
    "teacher2 = Teacher ( name =\" teacherB \", yob =1995 , subject =\" History \")\n",
    "doctor1 = Doctor ( name =\" doctorA \", yob =1945 , specialist =\" Endocrinologists \")\n",
    "ward1 = Ward(\"Ward1\")\n",
    "# assert ward1 . count_doctor () == 1\n",
    "doctor2 = Doctor ( name =\" doctorB \", yob =1975 , specialist =\" Cardiologists \")\n",
    "\n",
    "ward1 . add_people ( student1 )\n",
    "ward1 . add_people ( teacher1 )\n",
    "ward1 . add_people ( teacher2 )\n",
    "ward1 . add_people ( doctor1 )\n",
    "ward1 . add_people ( doctor2 )\n",
    "ward1 . count_doctor ()"
   ]
  },
  {
   "cell_type": "markdown",
   "metadata": {},
   "source": [
    "## 5.9 Thực hiện xây dựng class Stack với các chức năng (method) sau đây: initial- ization\n",
    "method nhận một input \"capacity\": dùng để khởi tạo stack với capacity là số lượng element mà\n",
    "stack có thể chứa. .is_full(): kiểm tra stack đã full chưa. .push(value) add thêm value vào trong\n",
    "stack. Kết quả đầu ra là gì\n",
    "\n",
    "a) True\n",
    "\n",
    "b) False\n",
    "\n",
    "c) None\n",
    "\n",
    "d) Raise an error"
   ]
  },
  {
   "cell_type": "code",
   "execution_count": 4,
   "metadata": {},
   "outputs": [
    {
     "name": "stdout",
     "output_type": "stream",
     "text": [
      "False\n"
     ]
    }
   ],
   "source": [
    "from zutils import Stack\n",
    "\n",
    "stack1 = Stack ( capacity =5)\n",
    "stack1 . push (1)\n",
    "assert stack1 . is_full () == False\n",
    "stack1 . push (2)\n",
    "print ( stack1 . is_full ())"
   ]
  },
  {
   "cell_type": "code",
   "execution_count": 5,
   "metadata": {},
   "outputs": [
    {
     "name": "stdout",
     "output_type": "stream",
     "text": [
      "[1, 2]\n"
     ]
    }
   ],
   "source": [
    "stack1.describe()"
   ]
  },
  {
   "cell_type": "markdown",
   "metadata": {},
   "source": [
    "## 5.10 Thực hiện xây dựng class Stack với các chức năng (method) sau đây: initialization\n",
    "method nhận một input \"capacity\", dùng để khởi tạo stack với capacity là số lượng element mà\n",
    "stack có thể chứa. Phương thức is_empty(): kiểm tra stack có đang rỗng. Phương thức is_full():\n",
    "kiểm tra stack đã full chưa. Phương thức push(value) add thêm value vào trong stack. Phương\n",
    "thức top() lấy giá trị top element hiện tại của stack, nhưng không loại bỏ giá trị đó. Kết quả đầu\n",
    "ra là gì?\n",
    "\n",
    "\n",
    "a) 1\n",
    "\n",
    "b) 2\n",
    "\n",
    "c) None\n",
    "\n",
    "d) Raise an error"
   ]
  },
  {
   "cell_type": "code",
   "execution_count": 8,
   "metadata": {},
   "outputs": [
    {
     "name": "stdout",
     "output_type": "stream",
     "text": [
      "2\n"
     ]
    }
   ],
   "source": [
    "stack1 = Stack ( capacity =5)\n",
    "stack1 . push (1)\n",
    "assert stack1 . is_full () == False\n",
    "stack1 . push (2)\n",
    "print ( stack1 . top ())"
   ]
  },
  {
   "cell_type": "markdown",
   "metadata": {},
   "source": [
    "## 5.2 Thực hiện xây dựng class Queue với các chức năng (method) sau đây: initialization\n",
    "method nhận một input \"capacity\", dùng để khởi tạo queue với capacity là số lượng element mà\n",
    "queue có thể chứa. Phương thức is_full(): kiểm tra queue đã full chưa. Phương thức enqueue(value)\n",
    "add thêm value vào trong queue. Kết quả đầu ra là gi?\n",
    "\n",
    "a) False\n",
    "\n",
    "b) True\n",
    "\n",
    "c) None\n",
    "\n",
    "d) Raise an error"
   ]
  },
  {
   "cell_type": "code",
   "execution_count": 6,
   "metadata": {},
   "outputs": [
    {
     "name": "stdout",
     "output_type": "stream",
     "text": [
      "False\n"
     ]
    }
   ],
   "source": [
    "from zutils import Queue\n",
    "queue1 = Queue ( capacity =5)\n",
    "queue1 . enqueue (1)\n",
    "assert queue1 . is_full () == False\n",
    "queue1 . enqueue (2)\n",
    "print ( queue1 . is_full ())"
   ]
  },
  {
   "cell_type": "code",
   "execution_count": 7,
   "metadata": {},
   "outputs": [
    {
     "name": "stdout",
     "output_type": "stream",
     "text": [
      "[1, 2]\n"
     ]
    }
   ],
   "source": [
    "queue1.describe()"
   ]
  },
  {
   "cell_type": "markdown",
   "metadata": {},
   "source": [
    "## 5.12 Thực hiện xây dựng class Queue với các chức năng (method) sau đây: initialization\n",
    "method nhận một input \"capacity\" dùng để khởi tạo queue với capacity là số lượng element mà\n",
    "queue có thể chứa. Phương thức is_full(): kiểm tra queue đã full chưa. Phương thức enqueue(value)\n",
    "add thêm value vào trong queue. Phương thức front() lấy giá trị first element hiện tại của queue,\n",
    "nhưng không loại bỏ giá trị đó. Kết quả đầu ra là gì?\n",
    "\n",
    "a) 4\n",
    "\n",
    "b) 3\n",
    "\n",
    "c) 2\n",
    "\n",
    "d) 1"
   ]
  },
  {
   "cell_type": "code",
   "execution_count": 1,
   "metadata": {},
   "outputs": [
    {
     "name": "stdout",
     "output_type": "stream",
     "text": [
      "1\n"
     ]
    }
   ],
   "source": [
    "from zutils import Queue\n",
    "queue1 = Queue ( capacity =5)\n",
    "queue1 . enqueue (1)\n",
    "assert queue1 . is_full () == False\n",
    "queue1 . enqueue (2)\n",
    "print ( queue1 . front ())"
   ]
  },
  {
   "cell_type": "code",
   "execution_count": 2,
   "metadata": {},
   "outputs": [
    {
     "name": "stdout",
     "output_type": "stream",
     "text": [
      "[1, 2]\n"
     ]
    }
   ],
   "source": [
    "queue1.describe()"
   ]
  },
  {
   "cell_type": "code",
   "execution_count": null,
   "metadata": {},
   "outputs": [],
   "source": []
  }
 ],
 "metadata": {
  "kernelspec": {
   "display_name": "Python 3",
   "language": "python",
   "name": "python3"
  },
  "language_info": {
   "codemirror_mode": {
    "name": "ipython",
    "version": 3
   },
   "file_extension": ".py",
   "mimetype": "text/x-python",
   "name": "python",
   "nbconvert_exporter": "python",
   "pygments_lexer": "ipython3",
   "version": "3.11.9"
  }
 },
 "nbformat": 4,
 "nbformat_minor": 2
}
