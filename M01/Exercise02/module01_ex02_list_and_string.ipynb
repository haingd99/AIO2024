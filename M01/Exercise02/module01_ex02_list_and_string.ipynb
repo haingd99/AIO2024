{
 "cells": [
  {
   "cell_type": "code",
   "execution_count": 1,
   "metadata": {},
   "outputs": [],
   "source": [
    "# Import the libs\n",
    "\n",
    "from zutils import slicing_window, count_char ,count_word, levenshtein_distance"
   ]
  },
  {
   "cell_type": "markdown",
   "metadata": {},
   "source": [
    "# 1. Finding max with slicer window"
   ]
  },
  {
   "cell_type": "code",
   "execution_count": 3,
   "metadata": {},
   "outputs": [
    {
     "name": "stdout",
     "output_type": "stream",
     "text": [
      "[5, 5, 5, 5, 10, 12, 33, 33, 34, 35, 35]\n"
     ]
    }
   ],
   "source": [
    "num_list = [3, 4, 5, 1, -44 , 5 ,10, 12 ,33, 1, 34, 35, -36]\n",
    "k = 3\n",
    "print(slicing_window(num_list = num_list, k = k))"
   ]
  },
  {
   "cell_type": "markdown",
   "metadata": {},
   "source": [
    "# 2. Count the number of times a letter appears in a word"
   ]
  },
  {
   "cell_type": "code",
   "execution_count": 4,
   "metadata": {},
   "outputs": [
    {
     "data": {
      "text/plain": [
       "{'a': 2,\n",
       " 'B': 2,\n",
       " 'c': 1,\n",
       " ' ': 2,\n",
       " 'b': 2,\n",
       " 'D': 2,\n",
       " 'e': 4,\n",
       " '1': 1,\n",
       " '2': 2,\n",
       " '3': 4,\n",
       " '4': 3}"
      ]
     },
     "execution_count": 4,
     "metadata": {},
     "output_type": "execute_result"
    }
   ],
   "source": [
    "count_char(words=\"aaBBc bbDDeeee 1232343434\")"
   ]
  },
  {
   "cell_type": "markdown",
   "metadata": {},
   "source": [
    "# 3. Read txt file and count the letter appears"
   ]
  },
  {
   "cell_type": "code",
   "execution_count": 5,
   "metadata": {},
   "outputs": [
    {
     "name": "stdout",
     "output_type": "stream",
     "text": [
      "{'\\n': 1, ' ': 3, '1': 1, '2': 2, '3': 4, '4': 3, 'B': 2, 'D': 2, 'a': 2, 'b': 2, 'c': 1, 'e': 4, 'f': 2, 'g': 1, 'h': 2, 'i': 1, 'k': 2}\n"
     ]
    }
   ],
   "source": [
    "with open(\"test.txt\") as f:\n",
    "    t = f.read()\n",
    "    chars = count_char(t)\n",
    "    \n",
    "print(dict(sorted(chars.items())))"
   ]
  },
  {
   "cell_type": "markdown",
   "metadata": {},
   "source": [
    "# 4. Count words on a file"
   ]
  },
  {
   "cell_type": "code",
   "execution_count": 6,
   "metadata": {},
   "outputs": [
    {
     "name": "stdout",
     "output_type": "stream",
     "text": [
      "{'a': 7, 'again': 1, 'and': 1, 'are': 1, 'at': 1, 'be': 1, 'become': 2, 'bricks': 1, 'busy': 1, 'but': 1, 'came': 1, 'can': 3, 'cannot': 1, 'change': 1, 'comes': 2, 'conquers': 1, 'courage': 1, 'day': 1, 'different': 1, 'employed': 1, 'enough': 1, 'everything': 1, 'firm': 1, 'for': 3, 'foundation': 1, 'from': 1, 'get': 2, 'have': 1, 'he': 1, 'help': 1, 'him': 1, 'himself': 1, 'his': 2, 'if': 1, 'in': 4, 'is': 3, 'it': 2, 'just': 2, 'kind': 1, 'lay': 1, 'life': 2, 'looking': 1, 'majority': 1, 'makes': 1, 'man': 6, 'mightiest': 1, 'mistakes': 1, 'morning': 1, 'not': 1, 'of': 4, 'one': 4, 'opportunity': 1, 'other': 1, 'others': 1, 'people': 1, 'positive': 1, 'problems': 1, 'profit': 1, 'rather': 1, 'ready': 1, 'secret': 1, 'small': 1, 'solve': 1, 'success': 3, 'successful': 2, 'the': 5, 'them': 1, 'they': 1, 'thinking': 1, 'those': 1, 'thought': 1, 'thrown': 1, 'to': 3, 'too': 1, 'try': 2, 'up': 1, 'usually': 1, 'value': 1, 'want': 2, 'warrior': 1, 'way': 1, 'we': 3, 'what': 1, 'when': 2, 'who': 3, 'whole': 1, 'will': 2, 'with': 4, 'you': 3, 'your': 1}\n"
     ]
    }
   ],
   "source": [
    "with open(\"P1_data.txt\") as f:\n",
    "    t = f.read()\n",
    "    words = count_word(t)\n",
    "    \n",
    "print(dict(sorted(words.items())))"
   ]
  },
  {
   "cell_type": "markdown",
   "metadata": {},
   "source": [
    "# 5. Levenshtein Distance"
   ]
  },
  {
   "cell_type": "code",
   "execution_count": 11,
   "metadata": {},
   "outputs": [
    {
     "data": {
      "text/plain": [
       "3"
      ]
     },
     "execution_count": 11,
     "metadata": {},
     "output_type": "execute_result"
    }
   ],
   "source": [
    "s1=\"Hello\"\n",
    "s2=\"Hola\"\n",
    "\n",
    "levenshtein_distance(s1, s2)"
   ]
  },
  {
   "cell_type": "markdown",
   "metadata": {},
   "source": [
    "# 6. Answer the questions:"
   ]
  },
  {
   "cell_type": "markdown",
   "metadata": {},
   "source": [
    "### 6.1 Hoàn thành chương trình sau với mô tả bài toán từ câu I.1. Đầu ra của chương trình dưới đây là gì?"
   ]
  },
  {
   "cell_type": "code",
   "execution_count": 12,
   "metadata": {},
   "outputs": [
    {
     "name": "stdout",
     "output_type": "stream",
     "text": [
      "[5, 5, 5, 5, 10, 12, 33, 33]\n"
     ]
    }
   ],
   "source": [
    "'''\n",
    "a) [5, 5, 5, 5, 10, 12, 33, 33]\n",
    "b) [2, 5, 3, 4, 1, 10, 3, 3]\n",
    "c) [0, 9, 5, 1, 0, 12, 3, 33]\n",
    "d) Raise an Error\n",
    "'''\n",
    "assert slicing_window ([3 , 4 , 5 , 1 , -44], 3) == [5, 5, 5]\n",
    "num_list = [3, 4, 5, 1, -44 , 5 ,10, 12 ,33, 1]\n",
    "k = 3\n",
    "print(slicing_window(num_list , k))"
   ]
  },
  {
   "cell_type": "markdown",
   "metadata": {},
   "source": [
    "### 6.2 Hoàn thành chương trình sau với mô tả bài toán từ câu I.2. Đầu ra của chương trình dưới đây là gì?\n",
    "    a) ’s’: 2, ’m’: 1, ’i’: 1, ’l’: 1, ’e’: 1\n",
    "    b) ’s’: 0, ’m’: 1, ’i’: 1, ’l’: 1, ’e’: 8\n",
    "    c) ’s’: 4, ’m’: 1, ’i’: 2, ’l’: 1, ’e’: 1\n",
    "    d) Raise a Error"
   ]
  },
  {
   "cell_type": "code",
   "execution_count": 13,
   "metadata": {},
   "outputs": [
    {
     "name": "stdout",
     "output_type": "stream",
     "text": [
      "{'s': 2, 'm': 1, 'i': 1, 'l': 1, 'e': 1}\n"
     ]
    }
   ],
   "source": [
    "assert count_char(\"Baby\") == {'B': 1, 'a': 1, 'b': 1, 'y': 1}\n",
    "print(count_char('smiles'))"
   ]
  },
  {
   "cell_type": "markdown",
   "metadata": {},
   "source": [
    "### 6.3 Hoàn thành chương trình sau với mô tả bài toán từ câu I.3. Đầu ra của chương trình dưới đây là gì?\n",
    "\n",
    "a) 4\n",
    "\n",
    "b) 5\n",
    "\n",
    "c) 6\n",
    "\n",
    "d) 9"
   ]
  },
  {
   "cell_type": "code",
   "execution_count": 24,
   "metadata": {},
   "outputs": [
    {
     "name": "stdout",
     "output_type": "stream",
     "text": [
      "6\n"
     ]
    }
   ],
   "source": [
    "file_path = 'P1_data.txt'\n",
    "\n",
    "\n",
    "with open(file_path) as f:\n",
    "    t = f.read()\n",
    "    result = count_word(t)\n",
    "assert result['who'] == 3\n",
    "# print(dict(sorted(result.items())))\n",
    "print(result['man'])"
   ]
  },
  {
   "cell_type": "markdown",
   "metadata": {},
   "source": [
    "### 6.4 Hoàn thành chương trình sau với mô tả bài toán từ câu I.4. Đầu ra của chương trình dưới đây là gì?\n",
    "\n",
    "    a) 1.0\n",
    "    b) 2.0\n",
    "    c) 3.0\n",
    "    d) 4.0"
   ]
  },
  {
   "cell_type": "code",
   "execution_count": 2,
   "metadata": {},
   "outputs": [
    {
     "name": "stdout",
     "output_type": "stream",
     "text": [
      "3\n"
     ]
    }
   ],
   "source": [
    "assert levenshtein_distance(\"hi\", \"hello\") == 4.0\n",
    "print(levenshtein_distance(\"hola\", \"hello\"))"
   ]
  },
  {
   "cell_type": "markdown",
   "metadata": {},
   "source": [
    "### 6.5 Hoàn thành chương trình sau. Đầu ra của chương trình dưới đây là gì?\n",
    "\n",
    "    a) True\n",
    "    b) False\n",
    "    c) None\n",
    "    d) Raise an Error\n"
   ]
  },
  {
   "cell_type": "code",
   "execution_count": 70,
   "metadata": {},
   "outputs": [
    {
     "name": "stdout",
     "output_type": "stream",
     "text": [
      "True\n"
     ]
    }
   ],
   "source": [
    "def check_the_number(N):\n",
    "    list_of_numbers = []\n",
    "    result = \"\"\n",
    "    for i in range(1, 5):\n",
    "    #Your code here\n",
    "    #Su dung append them i vao trong list_of_number\n",
    "        list_of_numbers.append(i)\n",
    "    if N in list_of_numbers:\n",
    "        results = \"True\"\n",
    "    if N not in list_of_numbers:\n",
    "        results = \"False\"\n",
    "    return results\n",
    "\n",
    "N = 7\n",
    "assert check_the_number(N) == \"False\"\n",
    "N = 2\n",
    "results = check_the_number(N)\n",
    "print(results)\n"
   ]
  },
  {
   "cell_type": "markdown",
   "metadata": {},
   "source": [
    "### 6.6 Hãy hoàn thành chương trình dưới đây. Đầu ra của chương trình là gì?\n",
    "    a) [10, 2, 5, 1, 1]\n",
    "    b) [0, 2, 2, 0, 0]\n",
    "    c) [2, 2, 2, 1, 1]\n",
    "    d) Raise an Error\n",
    "\n"
   ]
  },
  {
   "cell_type": "code",
   "execution_count": 30,
   "metadata": {},
   "outputs": [
    {
     "name": "stdout",
     "output_type": "stream",
     "text": [
      "[2, 2, 2, 1, 1]\n"
     ]
    }
   ],
   "source": [
    "def my_function(data , max , min):\n",
    "    result = []\n",
    "    for i in data:\n",
    "    #Your code here\n",
    "    #Neu i < min thi them min vao result\n",
    "        if i < min:\n",
    "            result.append(min)\n",
    "        elif i > max:\n",
    "            result.append(max)\n",
    "        else:\n",
    "            result.append(i)\n",
    "    return result\n",
    "my_list = [5, 2, 5, 0, 1]\n",
    "max = 1\n",
    "min = 0\n",
    "assert my_function(data = my_list, max = max , min = min) == [1, 1, 1, 0, 1]\n",
    "my_list = [10, 2, 5, 0, 1]\n",
    "max = 2\n",
    "min = 1\n",
    "print(my_function(data = my_list, max = max , min = min))"
   ]
  },
  {
   "cell_type": "markdown",
   "metadata": {},
   "source": [
    "### 6.7 Hãy hoàn thành chương trình dưới đây. Đầu ra của chương trình là gì?\n",
    "\n",
    "    a) [1, 2, 3, 4, 0, 0]\n",
    "    b) [1, 2, [3, 4, 0, 0]]\n",
    "    c) [[1, 2, 3, 4, 0, 0]]\n",
    "    d) Raise an Error\n"
   ]
  },
  {
   "cell_type": "code",
   "execution_count": 33,
   "metadata": {},
   "outputs": [
    {
     "name": "stdout",
     "output_type": "stream",
     "text": [
      "[1, 2, 3, 4, 0, 0]\n"
     ]
    }
   ],
   "source": [
    "def my_function(x, y):\n",
    "    #Your code here\n",
    "    #Su dung extend de noi y vao x\n",
    "    #return x\n",
    "    return x+y\n",
    "\n",
    "list_num1 = ['a', 2, 5]\n",
    "list_num2 = [1, 1]\n",
    "list_num3 = [0, 0]\n",
    "\n",
    "assert my_function(list_num1 , my_function(list_num2 , list_num3)) == ['a', 2, 5, 1, 1,\n",
    "0, 0]\n",
    "\n",
    "list_num1 = [1, 2]\n",
    "list_num2 = [3, 4]\n",
    "list_num3 = [0, 0]\n",
    "\n",
    "print(my_function(list_num1 , my_function(list_num2 , list_num3)))"
   ]
  },
  {
   "cell_type": "markdown",
   "metadata": {},
   "source": [
    "### 6.8 Hãy hoàn thành chương trình tìm phần tử có giá trị nhỏ nhất trong một list dưới đây. Đầu ra của chương trình là gì?\n",
    "\n",
    "    a) None\n",
    "    b) Raise an Error\n",
    "    c) -1\n",
    "    d) 3"
   ]
  },
  {
   "cell_type": "code",
   "execution_count": 44,
   "metadata": {},
   "outputs": [
    {
     "name": "stdout",
     "output_type": "stream",
     "text": [
      "-1\n"
     ]
    }
   ],
   "source": [
    "def my_function(n):\n",
    "    #Your code here\n",
    "    m = 0\n",
    "    for i in range(len(n)):\n",
    "        if m > n[i]:\n",
    "            m = n[i]\n",
    "    return m\n",
    "\n",
    "\n",
    "my_list = [1, 22, 93, -100]\n",
    "assert my_function(my_list) == -100\n",
    "\n",
    "my_list = [1, 2, 3, -1]\n",
    "print(my_function(my_list))"
   ]
  },
  {
   "cell_type": "markdown",
   "metadata": {},
   "source": [
    "### 6.9 Hãy hoàn thành chương trình tìm phần tử có giá trị lớn nhất trong một list dưới đây. Đầu ra của chương trình là gì?\n",
    "\n",
    "    a) None\n",
    "    b) Raise an Error\n",
    "    c) 0\n",
    "    d) 9"
   ]
  },
  {
   "cell_type": "code",
   "execution_count": 45,
   "metadata": {},
   "outputs": [
    {
     "name": "stdout",
     "output_type": "stream",
     "text": [
      "9\n"
     ]
    }
   ],
   "source": [
    "def my_function(n):\n",
    "    #Your code here\n",
    "    m = 0\n",
    "    for i in range(len(n)):\n",
    "        if m < n[i]:\n",
    "            m = n[i]\n",
    "    return m\n",
    "    \n",
    "\n",
    "my_list = [1001, 9, 100, 0]\n",
    "assert my_function(my_list) == 1001\n",
    "\n",
    "my_list = [1, 9, 9, 0]\n",
    "print(my_function(my_list))"
   ]
  },
  {
   "cell_type": "markdown",
   "metadata": {},
   "source": [
    "### 6.10 Hãy hoàn thành chương trình dưới đây. Đầu ra của chương trình là gì?\n",
    "\n",
    "    a) 1\n",
    "    b) 4\n",
    "    c) True\n",
    "    d) False"
   ]
  },
  {
   "cell_type": "code",
   "execution_count": 55,
   "metadata": {},
   "outputs": [
    {
     "name": "stdout",
     "output_type": "stream",
     "text": [
      "[False, True, False, False]\n"
     ]
    }
   ],
   "source": [
    "def My_function(integers , number = 1):\n",
    "    \"\"\"\n",
    "    #Your code here: Thuc hien duyet tung phan tu trong integers , \n",
    "    # so sanh tung phan tu voi number , neu bang nhau tra ve True , \n",
    "    # khac nhau tra ve false 3 #vi du: integers = [1, 2, 3], number = 2, \n",
    "    # ban se tao ra list [False ,True , False] ) 4 5 \n",
    "    \"\"\"\n",
    "    result = []\n",
    "    for i in integers:\n",
    "        if i == number: \n",
    "            result.append(True)\n",
    "        else: \n",
    "            result.append(False)\n",
    "    return result\n",
    "\n",
    "\n",
    "# my_list = [1, 3, 9, 4]\n",
    "# assert My_function(my_list , number=-1) == False\n",
    "\n",
    "my_list = [1, 2, 3, 4]\n",
    "print(My_function(my_list , 2))"
   ]
  },
  {
   "cell_type": "markdown",
   "metadata": {},
   "source": [
    "### 6.11 Hãy hoàn thành chương trình dưới đây. Đầu ra của chương trình là gì?\n",
    "\n",
    "    a) 1\n",
    "    b) 4\n",
    "    c) True\n",
    "    d) False"
   ]
  },
  {
   "cell_type": "code",
   "execution_count": 47,
   "metadata": {},
   "outputs": [
    {
     "name": "stdout",
     "output_type": "stream",
     "text": [
      "1.0\n"
     ]
    }
   ],
   "source": [
    "def my_function(list_nums = [0, 1, 2]):\n",
    "    var = 0\n",
    "    for i in list_nums:\n",
    "        var += i\n",
    "    #Your code here: Tra ve gia tri trung binh cua list bang cach chia var cho so luong phan tu trong list_mums\n",
    "    if len(list_nums) != 0:\n",
    "        return var/len(list_nums)\n",
    "    else:\n",
    "        return \"The list must not empty.\"\n",
    "    \n",
    "    \n",
    "assert my_function ([4, 6, 8]) == 6\n",
    "print(my_function ())"
   ]
  },
  {
   "cell_type": "markdown",
   "metadata": {},
   "source": [
    "### 6.12 Hãy hoàn thành chương trình dưới đây. Đầu ra của chương trình dưới đây là gì?\n",
    "    a) [3, 6]\n",
    "    b) [1, 2, 3, 5, 6]\n",
    "    c) a and d\n",
    "    d) [5, 1]"
   ]
  },
  {
   "cell_type": "code",
   "execution_count": 61,
   "metadata": {},
   "outputs": [
    {
     "name": "stdout",
     "output_type": "stream",
     "text": [
      "[3, 6]\n"
     ]
    }
   ],
   "source": [
    "def my_function(data):\n",
    "    var = []\n",
    "    for i in data:\n",
    "    #Your code here\n",
    "    #Neu i chia het cho 3 thi them i vao list var\n",
    "        if i % 3 == 0:\n",
    "            var.append(i)\n",
    "    return var\n",
    "\n",
    "assert my_function ([3, 9, 4, 5]) == [3, 9]\n",
    "print(my_function ([1, 2, 3, 5, 6]))"
   ]
  },
  {
   "cell_type": "markdown",
   "metadata": {},
   "source": [
    "### 6.13 Hãy hoàn thành chương trình sau đây thực hiện tính giai thừa của 1 số. Đầu ra của chương trình dưới đây là gì?\n",
    "\n",
    "    a) 0\n",
    "    b) 20\n",
    "    c) 24\n",
    "    d) Raise an Error\n"
   ]
  },
  {
   "cell_type": "code",
   "execution_count": 64,
   "metadata": {},
   "outputs": [
    {
     "name": "stdout",
     "output_type": "stream",
     "text": [
      "24\n"
     ]
    }
   ],
   "source": [
    "def my_function(y):\n",
    "    var = 1\n",
    "    \n",
    "    while(y > 1):\n",
    "    #Your code here\n",
    "        var *= y\n",
    "        y -= 1\n",
    "\n",
    "    return var\n",
    "\n",
    "\n",
    "assert my_function (8) == 40320\n",
    "print(my_function (4))"
   ]
  },
  {
   "cell_type": "markdown",
   "metadata": {},
   "source": [
    "### 6.14 Hãy hoàn thành chương trình đảo ngược chuỗi dưới đây. Đầu ra của chương trình là gì?\n",
    "\n",
    "    a) apricot\n",
    "    b) tocirpa\n",
    "    c) Raise a Error\n",
    "    d) None"
   ]
  },
  {
   "cell_type": "code",
   "execution_count": 68,
   "metadata": {},
   "outputs": [
    {
     "name": "stdout",
     "output_type": "stream",
     "text": [
      "tocirpa\n"
     ]
    }
   ],
   "source": [
    "def my_function(x):\n",
    "    #your code here\n",
    "    return x[::-1]\n",
    "\n",
    "x = 'I can do it'\n",
    "assert my_function(x)==\"ti od nac I\"\n",
    "\n",
    "x = 'apricot'\n",
    "print(my_function(x))"
   ]
  },
  {
   "cell_type": "markdown",
   "metadata": {},
   "source": [
    "### 6.15 Hãy hoàn thành chương trình dưới đây. Đầu ra của chương trình là gì?\n",
    "\n",
    "    a) [’N’, ’T’, ’T’, ’N’]\n",
    "    b) [’T’, ’N’, ’T’, ’N’]\n",
    "    c) [’T’, ’T’, ’T’, ’N’]\n",
    "    d) Raise an Error"
   ]
  },
  {
   "cell_type": "code",
   "execution_count": 66,
   "metadata": {},
   "outputs": [
    {
     "name": "stdout",
     "output_type": "stream",
     "text": [
      "['T', 'T', 'T', 'N']\n"
     ]
    }
   ],
   "source": [
    "def function_helper(x):\n",
    "    #Your code here\n",
    "    #Neu x>0 tra ve 'T', nguoc lai tra ve 'N'\n",
    "    return \"T\" if x > 0 else \"N\"\n",
    "\n",
    "def my_function(data):\n",
    "    res = [function_helper(x) for x in data]\n",
    "    return res\n",
    "\n",
    "data = [10, 0, -10, -1]\n",
    "assert my_function(data) == ['T', 'N', 'N', 'N']\n",
    "\n",
    "data = [2, 3, 5, -1]\n",
    "print(my_function(data))"
   ]
  },
  {
   "cell_type": "markdown",
   "metadata": {},
   "source": [
    "### 6.16 Hãy hoàn thành chương trình dưới đây để loại bỏ những phần tử trùng nhau. Đầu ra của chương trình là gì?\n",
    "\n",
    "    a) [9, 8, 1]\n",
    "    b) [1, 1, 1]\n",
    "    c) [9, 9, 8, 1, 1]\n",
    "    d) Raise an Error"
   ]
  },
  {
   "cell_type": "code",
   "execution_count": 67,
   "metadata": {},
   "outputs": [
    {
     "name": "stdout",
     "output_type": "stream",
     "text": [
      "[9, 8, 1]\n"
     ]
    }
   ],
   "source": [
    "def function_helper(x, data):\n",
    "    for i in data:\n",
    "    #Your code here\n",
    "    #Neu x == i thi return 0\n",
    "        if x == i:\n",
    "            return 0\n",
    "\n",
    "    return 1\n",
    "\n",
    "def my_function(data):\n",
    "    res = []\n",
    "    for i in data:\n",
    "        if function_helper(i, res):\n",
    "            res.append(i)\n",
    "\n",
    "    return res\n",
    "\n",
    "lst = [10, 10, 9, 7, 7]\n",
    "assert my_function(lst)==[10 , 9, 7]\n",
    "\n",
    "lst = [9, 9, 8, 1, 1]\n",
    "print(my_function(lst))"
   ]
  }
 ],
 "metadata": {
  "kernelspec": {
   "display_name": "Python 3",
   "language": "python",
   "name": "python3"
  },
  "language_info": {
   "codemirror_mode": {
    "name": "ipython",
    "version": 3
   },
   "file_extension": ".py",
   "mimetype": "text/x-python",
   "name": "python",
   "nbconvert_exporter": "python",
   "pygments_lexer": "ipython3",
   "version": "3.11.9"
  }
 },
 "nbformat": 4,
 "nbformat_minor": 2
}
