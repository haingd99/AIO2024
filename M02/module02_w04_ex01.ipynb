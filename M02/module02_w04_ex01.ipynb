{
 "cells": [
  {
   "cell_type": "code",
   "execution_count": 1,
   "metadata": {},
   "outputs": [],
   "source": [
    "from zutils import compute_mean, compute_median, compute_var, compute_std, compute_correlation_cofficient, compute_covariable\n",
    "import numpy as np\n"
   ]
  },
  {
   "cell_type": "markdown",
   "metadata": {},
   "source": [
    "# Câu hỏi 1: Kết quả của đoạn chương trình tính mean sau đây là:\n",
    "Cho Data X = {2, 0, 2, 2, 7, 4, −2, 5, −1, −1}\n",
    "Hãy hoàn thiện function compute_mean() để tính mean μ của X đã cho."
   ]
  },
  {
   "cell_type": "code",
   "execution_count": 2,
   "metadata": {},
   "outputs": [
    {
     "data": {
      "text/plain": [
       "1.8"
      ]
     },
     "execution_count": 2,
     "metadata": {},
     "output_type": "execute_result"
    }
   ],
   "source": [
    "X = [2 , 0 , 2 , 2 , 7, 4 , -2 , 5 , -1 , -1]\n",
    "\n",
    "compute_mean(X)"
   ]
  },
  {
   "cell_type": "markdown",
   "metadata": {},
   "source": [
    "# Câu hỏi 2: Kết quả của đoạn chương trình tính median sau đây là:\n",
    "Cho Data X = {1, 5, 4, 4, 9, 13}. Hãy hoàn thiện function compute_median() để tìm median của\n",
    "X đã cho.\n",
    "\n"
   ]
  },
  {
   "cell_type": "code",
   "execution_count": 3,
   "metadata": {},
   "outputs": [
    {
     "name": "stdout",
     "output_type": "stream",
     "text": [
      "4.5\n"
     ]
    }
   ],
   "source": [
    "X = [1, 5, 4, 4, 9, 13] # 1,4,4,5,9,13\n",
    "\n",
    "compute_median(X)"
   ]
  },
  {
   "cell_type": "code",
   "execution_count": 4,
   "metadata": {},
   "outputs": [
    {
     "data": {
      "text/plain": [
       "4.5"
      ]
     },
     "execution_count": 4,
     "metadata": {},
     "output_type": "execute_result"
    }
   ],
   "source": [
    "np.median(X)"
   ]
  },
  {
   "cell_type": "markdown",
   "metadata": {},
   "source": [
    "# Câu hỏi 3: Kết quả của đoạn chương trình tính variance và standard deviation sau đây là:\n",
    "Cho Data X = {171, 176, 155, 167, 169, 182}\n",
    "Hãy hoàn thiện function compute_std() để tìm standard deviation σ của X đã cho."
   ]
  },
  {
   "cell_type": "code",
   "execution_count": 5,
   "metadata": {},
   "outputs": [
    {
     "data": {
      "text/plain": [
       "8.32666399786453"
      ]
     },
     "execution_count": 5,
     "metadata": {},
     "output_type": "execute_result"
    }
   ],
   "source": [
    "X = [171, 176, 155, 167, 169, 182]\n",
    "compute_std(X)"
   ]
  },
  {
   "cell_type": "code",
   "execution_count": 6,
   "metadata": {},
   "outputs": [
    {
     "data": {
      "text/plain": [
       "8.32666399786453"
      ]
     },
     "execution_count": 6,
     "metadata": {},
     "output_type": "execute_result"
    }
   ],
   "source": [
    "np.std(X)"
   ]
  },
  {
   "cell_type": "markdown",
   "metadata": {},
   "source": [
    "# Câu hỏi 4: Kết quả của đoạn chương trình tính correlation coefficient sau đây là:\n",
    "Cho Data \n",
    "\n",
    "X = { −2, −5, −11, 6, 4, 15, 9} và\n",
    "\n",
    "Y = { 4, 25, 121, 36, 16, 225, 81}\n",
    "\n",
    "Hoàn thiện function compute_correlation_cofficient() để tìm correlation coefficient của X và Y\n",
    "đã cho?"
   ]
  },
  {
   "cell_type": "code",
   "execution_count": 7,
   "metadata": {},
   "outputs": [
    {
     "data": {
      "text/plain": [
       "0.4202633309602728"
      ]
     },
     "execution_count": 7,
     "metadata": {},
     "output_type": "execute_result"
    }
   ],
   "source": [
    "X = [-2, -5, -11, 6, 4, 15, 9]\n",
    "\n",
    "Y = [ 4, 25, 121, 36, 16, 225, 81]\n",
    "np.corrcoef(X,Y)[0,1]"
   ]
  },
  {
   "cell_type": "code",
   "execution_count": 8,
   "metadata": {},
   "outputs": [
    {
     "data": {
      "text/plain": [
       "0.42"
      ]
     },
     "execution_count": 8,
     "metadata": {},
     "output_type": "execute_result"
    }
   ],
   "source": [
    "compute_correlation_cofficient(X,Y)"
   ]
  },
  {
   "cell_type": "code",
   "execution_count": 9,
   "metadata": {},
   "outputs": [
    {
     "data": {
      "text/plain": [
       "3.7865323450608567e-29"
      ]
     },
     "execution_count": 9,
     "metadata": {},
     "output_type": "execute_result"
    }
   ],
   "source": [
    "compute_covariable(X,Y)"
   ]
  },
  {
   "cell_type": "markdown",
   "metadata": {},
   "source": [
    "# Câu hỏi 5: Kết quả của đoạn chương trình sau đây là:\n",
    "Download dataset : ! gdown 1 iA0WmVfW88HyJvTBSQDI5vesf - pgKabq\n",
    " \n",
    "import pandas as pd\n",
    "\n",
    "data = pd . read_csv (\" advertising .csv\")\n",
    "\n",
    "def correlation (x , y ) :\n",
    " [Your code here #]\n",
    "\n",
    "Example usage :\n",
    "\n",
    "x = data [\"TV\"]\n",
    "\n",
    "y = data [\"Radio\"]\n",
    "\n",
    "corr_xy = correlation (x , y )\n",
    "\n",
    "print ( f\" Correlation between TV and Sales : { round ( corr_xy , 2)}\")\n"
   ]
  },
  {
   "cell_type": "code",
   "execution_count": 14,
   "metadata": {},
   "outputs": [
    {
     "data": {
      "text/plain": [
       "0.05"
      ]
     },
     "execution_count": 14,
     "metadata": {},
     "output_type": "execute_result"
    }
   ],
   "source": [
    "import pandas as pd\n",
    "\n",
    "data = pd.read_csv(\"advertising.csv\")\n",
    "x = data[\"TV\"]\n",
    "y = data[\"Radio\"]\n",
    "\n",
    "compute_correlation_cofficient(x,y)"
   ]
  },
  {
   "cell_type": "markdown",
   "metadata": {},
   "source": [
    "# Câu hỏi 6: Kết quả của đoạn chương trình sau đây là:\n",
    "data = pd . read_csv (\" advertising .csv\")\n",
    "\n",
    "def correlation (x , y ) :\n",
    "\n",
    "2 # Your code here #\n",
    "\n",
    "features = [\"TV\",\"Radio\",\"Newspaper\"]\n",
    "\n",
    "for feature_1 in features :\n",
    "\n",
    "for feature_2 in features :\n",
    "\n",
    "\n",
    "correlation_value = correlation ( data [ feature_1 ] , data [ feature_2 ])\n",
    "\n",
    "print ( f\" Correlation between { feature_1 } and { feature_2 }: { round (\n",
    "correlation_value , 2)}\")"
   ]
  },
  {
   "cell_type": "code",
   "execution_count": 16,
   "metadata": {},
   "outputs": [
    {
     "name": "stdout",
     "output_type": "stream",
     "text": [
      " Correlation between TV and TV: 1.0\n",
      " Correlation between TV and Radio: 0.05\n",
      " Correlation between TV and Newspaper: 0.06\n",
      " Correlation between Radio and TV: 0.05\n",
      " Correlation between Radio and Radio: 1.0\n",
      " Correlation between Radio and Newspaper: 0.35\n",
      " Correlation between Newspaper and TV: 0.06\n",
      " Correlation between Newspaper and Radio: 0.35\n",
      " Correlation between Newspaper and Newspaper: 1.0\n"
     ]
    }
   ],
   "source": [
    "features = [\"TV\",\"Radio\",\"Newspaper\"]\n",
    "for feature_1 in features:\n",
    "    for feature_2 in features:\n",
    "        correlation_value = compute_correlation_cofficient ( data [ feature_1 ] , data [ feature_2 ])\n",
    "        print ( f\" Correlation between { feature_1 } and { feature_2 }: { round (correlation_value , 2)}\")"
   ]
  },
  {
   "cell_type": "markdown",
   "metadata": {},
   "source": [
    "# Câu hỏi 7: Hãy cho biết đoạn code phù hợp với kết quả sau đây là:\n",
    "\n",
    "1 data = pd . read_csv (\" advertising .csv\")\n",
    "\n",
    "2 x = data [\"Radio\"]\n",
    "\n",
    "3 y = data [\"Newspaper\"]\n",
    "\n",
    "4\n",
    "\n",
    "5 result = # Your code here #\n",
    "\n",
    "6 print ( result )\n",
    "\n",
    "7\n",
    "\n",
    "8 # Expected output : [[1. 0.35410375]\n",
    "\n",
    "9 # [0.35410375 1. ]]\n",
    "\n",
    "a) np.correlation(x, y)\n",
    "\n",
    "b) np.coefficient(x, y)\n",
    "\n",
    "c) np.corrcoef(x, y)\n",
    "\n",
    "d) correlation(x,y)"
   ]
  },
  {
   "cell_type": "code",
   "execution_count": 18,
   "metadata": {},
   "outputs": [
    {
     "data": {
      "text/plain": [
       "array([[1.        , 0.35410375],\n",
       "       [0.35410375, 1.        ]])"
      ]
     },
     "execution_count": 18,
     "metadata": {},
     "output_type": "execute_result"
    }
   ],
   "source": [
    "x = data [\"Radio\"]\n",
    "y = data [\"Newspaper\"]\n",
    "np.corrcoef(x, y)"
   ]
  },
  {
   "cell_type": "markdown",
   "metadata": {},
   "source": [
    "# Câu hỏi 8: Hãy cho biết đoạn code phù hợp với kết quả sau đây là:\n",
    "1 data = pd . read_csv (\" advertising .csv\")\n",
    "2\n",
    "3 # Your code here #\n"
   ]
  },
  {
   "cell_type": "code",
   "execution_count": 20,
   "metadata": {},
   "outputs": [
    {
     "data": {
      "text/html": [
       "<div>\n",
       "<style scoped>\n",
       "    .dataframe tbody tr th:only-of-type {\n",
       "        vertical-align: middle;\n",
       "    }\n",
       "\n",
       "    .dataframe tbody tr th {\n",
       "        vertical-align: top;\n",
       "    }\n",
       "\n",
       "    .dataframe thead th {\n",
       "        text-align: right;\n",
       "    }\n",
       "</style>\n",
       "<table border=\"1\" class=\"dataframe\">\n",
       "  <thead>\n",
       "    <tr style=\"text-align: right;\">\n",
       "      <th></th>\n",
       "      <th>TV</th>\n",
       "      <th>Radio</th>\n",
       "      <th>Newspaper</th>\n",
       "      <th>Sales</th>\n",
       "    </tr>\n",
       "  </thead>\n",
       "  <tbody>\n",
       "    <tr>\n",
       "      <th>0</th>\n",
       "      <td>230.1</td>\n",
       "      <td>37.8</td>\n",
       "      <td>69.2</td>\n",
       "      <td>22.1</td>\n",
       "    </tr>\n",
       "    <tr>\n",
       "      <th>1</th>\n",
       "      <td>44.5</td>\n",
       "      <td>39.3</td>\n",
       "      <td>45.1</td>\n",
       "      <td>10.4</td>\n",
       "    </tr>\n",
       "    <tr>\n",
       "      <th>2</th>\n",
       "      <td>17.2</td>\n",
       "      <td>45.9</td>\n",
       "      <td>69.3</td>\n",
       "      <td>12.0</td>\n",
       "    </tr>\n",
       "    <tr>\n",
       "      <th>3</th>\n",
       "      <td>151.5</td>\n",
       "      <td>41.3</td>\n",
       "      <td>58.5</td>\n",
       "      <td>16.5</td>\n",
       "    </tr>\n",
       "    <tr>\n",
       "      <th>4</th>\n",
       "      <td>180.8</td>\n",
       "      <td>10.8</td>\n",
       "      <td>58.4</td>\n",
       "      <td>17.9</td>\n",
       "    </tr>\n",
       "  </tbody>\n",
       "</table>\n",
       "</div>"
      ],
      "text/plain": [
       "      TV  Radio  Newspaper  Sales\n",
       "0  230.1   37.8       69.2   22.1\n",
       "1   44.5   39.3       45.1   10.4\n",
       "2   17.2   45.9       69.3   12.0\n",
       "3  151.5   41.3       58.5   16.5\n",
       "4  180.8   10.8       58.4   17.9"
      ]
     },
     "execution_count": 20,
     "metadata": {},
     "output_type": "execute_result"
    }
   ],
   "source": [
    "data = pd.read_csv(\"advertising.csv\")\n",
    "data.head()"
   ]
  },
  {
   "cell_type": "code",
   "execution_count": 21,
   "metadata": {},
   "outputs": [
    {
     "data": {
      "text/html": [
       "<div>\n",
       "<style scoped>\n",
       "    .dataframe tbody tr th:only-of-type {\n",
       "        vertical-align: middle;\n",
       "    }\n",
       "\n",
       "    .dataframe tbody tr th {\n",
       "        vertical-align: top;\n",
       "    }\n",
       "\n",
       "    .dataframe thead th {\n",
       "        text-align: right;\n",
       "    }\n",
       "</style>\n",
       "<table border=\"1\" class=\"dataframe\">\n",
       "  <thead>\n",
       "    <tr style=\"text-align: right;\">\n",
       "      <th></th>\n",
       "      <th>TV</th>\n",
       "      <th>Radio</th>\n",
       "      <th>Newspaper</th>\n",
       "      <th>Sales</th>\n",
       "    </tr>\n",
       "  </thead>\n",
       "  <tbody>\n",
       "    <tr>\n",
       "      <th>TV</th>\n",
       "      <td>1.000000</td>\n",
       "      <td>0.054809</td>\n",
       "      <td>0.056648</td>\n",
       "      <td>0.901208</td>\n",
       "    </tr>\n",
       "    <tr>\n",
       "      <th>Radio</th>\n",
       "      <td>0.054809</td>\n",
       "      <td>1.000000</td>\n",
       "      <td>0.354104</td>\n",
       "      <td>0.349631</td>\n",
       "    </tr>\n",
       "    <tr>\n",
       "      <th>Newspaper</th>\n",
       "      <td>0.056648</td>\n",
       "      <td>0.354104</td>\n",
       "      <td>1.000000</td>\n",
       "      <td>0.157960</td>\n",
       "    </tr>\n",
       "    <tr>\n",
       "      <th>Sales</th>\n",
       "      <td>0.901208</td>\n",
       "      <td>0.349631</td>\n",
       "      <td>0.157960</td>\n",
       "      <td>1.000000</td>\n",
       "    </tr>\n",
       "  </tbody>\n",
       "</table>\n",
       "</div>"
      ],
      "text/plain": [
       "                 TV     Radio  Newspaper     Sales\n",
       "TV         1.000000  0.054809   0.056648  0.901208\n",
       "Radio      0.054809  1.000000   0.354104  0.349631\n",
       "Newspaper  0.056648  0.354104   1.000000  0.157960\n",
       "Sales      0.901208  0.349631   0.157960  1.000000"
      ]
     },
     "execution_count": 21,
     "metadata": {},
     "output_type": "execute_result"
    }
   ],
   "source": [
    "data.corr()"
   ]
  },
  {
   "cell_type": "markdown",
   "metadata": {},
   "source": [
    "# Câu hỏi 9: Hãy cho biết đoạn code phù hợp với kết quả sau đây là:"
   ]
  },
  {
   "cell_type": "code",
   "execution_count": 33,
   "metadata": {},
   "outputs": [
    {
     "data": {
      "image/png": "[encoded data removed]",
      "text/plain": [
       "<Figure size 1000x800 with 2 Axes>"
      ]
     },
     "metadata": {},
     "output_type": "display_data"
    }
   ],
   "source": [
    "import matplotlib . pyplot as plt\n",
    "import seaborn as sns\n",
    "\n",
    "data = pd.read_csv (\"advertising.csv\")\n",
    "plt.figure ( figsize =(10 ,8) )\n",
    "data_corr = data.corr()\n",
    "sns.heatmap(data_corr, annot=True, fmt=\".2f\", linewidth=.5)\n",
    "plt.show ()"
   ]
  },
  {
   "cell_type": "markdown",
   "metadata": {},
   "source": [
    "# Câu hỏi 10: Kết quả của đoạn chương trình đọc file và sử dụng TF-IDF để biểu diễn văn bản thành\n",
    "vector sau đây là:\n",
    "\n",
    "1 # Download dataset : ! gdown 1 jh2p2DlaWsDo_vEWIcTrNh3mUuXd -cw6\n",
    "\n",
    "2 import pandas as pd\n",
    "\n",
    "3 import numpy as np\n",
    "\n",
    "4 from sklearn . metrics . pairwise import cosine_similarity\n",
    "\n",
    "5 from sklearn . feature_extraction . text import TfidfVectorizer\n",
    "\n",
    "6\n",
    "\n",
    "7 vi_data_df = pd . read_csv (\"./ vi_text_retrieval .csv\")\n",
    "\n",
    "8 context = vi_data_df [’text ’]\n",
    "\n",
    "9 context = [ doc . lower () for doc in context ]\n",
    "\n",
    "10\n",
    "\n",
    "11 tfidf_vectorizer = TfidfVectorizer ()\n",
    "\n",
    "12 context_embedded = # Your Code *******\n",
    "\n",
    "13 context_embedded . toarray () [7][0]"
   ]
  },
  {
   "cell_type": "code",
   "execution_count": 36,
   "metadata": {},
   "outputs": [
    {
     "data": {
      "text/plain": [
       "0.31126580760710637"
      ]
     },
     "execution_count": 36,
     "metadata": {},
     "output_type": "execute_result"
    }
   ],
   "source": [
    "import pandas as pd\n",
    "import numpy as np\n",
    "from sklearn.metrics.pairwise import cosine_similarity\n",
    "from sklearn.feature_extraction.text import TfidfVectorizer\n",
    "\n",
    "vi_data_df = pd . read_csv (\"vi_text_retrieval.csv\")\n",
    "\n",
    "context = vi_data_df[\"text\"]\n",
    "\n",
    "context = [ doc . lower () for doc in context ]\n",
    "\n",
    "tfidf_vectorizer = TfidfVectorizer ()\n",
    "\n",
    "context_embedded = tfidf_vectorizer.fit_transform(context)\n",
    "context_embedded.toarray()[7][0]"
   ]
  },
  {
   "cell_type": "markdown",
   "metadata": {},
   "source": [
    "# Câu hỏi 11: Kết quả của đoạn chương trình tính độ tương đồng cosine là:\n",
    "\n",
    "1 def tfidf_search ( question , tfidf_vectorizer , top_d =5) :\n",
    "2 # lowercasing before encoding\n",
    "3 query_embedded = # Your Code Here ********\n",
    "4 cosine_scores = # Your Code Here ********\n",
    "5\n",
    "6 # Get top k cosine score and index its\n",
    "7 results = []\n",
    "8 for idx in cosine_scores . argsort () [ - top_d :][:: -1]:\n",
    "9 doc_score = {\n",
    "10\"id\": idx ,\n",
    "11\" cosine_score\": cosine_scores [ idx ]\n",
    "12 }\n",
    "13 results . append ( doc_score )\n",
    "14 return results\n",
    "15\n",
    "16 question = vi_data_df . iloc [0][\"question\"]\n",
    "17 results = tfidf_search ( question , tfidf_vectorizer , top_d =5)\n",
    "18 results [0][\"cosine_score\"]"
   ]
  },
  {
   "cell_type": "code",
   "execution_count": 54,
   "metadata": {},
   "outputs": [
    {
     "data": {
      "text/plain": [
       "0.6279910475266974"
      ]
     },
     "execution_count": 54,
     "metadata": {},
     "output_type": "execute_result"
    }
   ],
   "source": [
    "def tfidf_search ( question , tfidf_vectorizer , top_d =5) :\n",
    "# lowercasing before encoding\n",
    "    question = question.lower()\n",
    "    query_embedded = tfidf_vectorizer.transform([question])\n",
    "    cosine_scores = cosine_similarity(query_embedded, context_embedded).flatten()\n",
    "\n",
    " # Get top k cosine score and index its\n",
    "    results = []\n",
    "    for idx in cosine_scores . argsort () [ - top_d :][:: -1]:\n",
    "        doc_score = {\n",
    "                   \"id\": idx ,\n",
    "                   \"cosine_score\": cosine_scores [ idx ]\n",
    "                    }\n",
    "        results . append ( doc_score )\n",
    "    return results\n",
    "\n",
    "question = vi_data_df . iloc [0][\"question\"]\n",
    "results = tfidf_search( question,tfidf_vectorizer,top_d =5)\n",
    "results[0][\"cosine_score\"]"
   ]
  },
  {
   "cell_type": "code",
   "execution_count": 55,
   "metadata": {},
   "outputs": [
    {
     "data": {
      "text/plain": [
       "[{'id': 0, 'cosine_score': 0.6279910475266974},\n",
       " {'id': 97, 'cosine_score': 0.2114579586225163},\n",
       " {'id': 136, 'cosine_score': 0.17714753149794465},\n",
       " {'id': 384, 'cosine_score': 0.15971218395887335},\n",
       " {'id': 118, 'cosine_score': 0.1578067474650028}]"
      ]
     },
     "execution_count": 55,
     "metadata": {},
     "output_type": "execute_result"
    }
   ],
   "source": [
    "results"
   ]
  },
  {
   "cell_type": "markdown",
   "metadata": {},
   "source": [
    "# Câu hỏi 12: Kết quả của đoạn chương trình tính độ tương đồng correlation là:\n",
    "1 def corr_search ( question , tfidf_vectorizer , top_d =5) :\n",
    "\n",
    "2 # lowercasing before encoding\n",
    "\n",
    "3 query_embedded = # Your Code Here ******\n",
    "\n",
    "4 corr_scores = # Your Code Here ******\n",
    "\n",
    "5 corr_scores = corr_scores [0][1:]\n",
    "\n",
    "6 # Get top k correlation score and index its\n",
    "\n",
    "7 results = []\n",
    "\n",
    "8 for idx in corr_scores . argsort () [ - top_d :][:: -1]:\n",
    "\n",
    "9 doc = {\n",
    "\n",
    "10\"id\": idx ,\n",
    "\n",
    "11\"corr_score\": corr_scores [ idx ]\n",
    "\n",
    "12 }\n",
    "\n",
    "13 results . append ( doc )\n",
    "\n",
    "14 return results\n",
    "\n",
    "15\n",
    "\n",
    "16 question = vi_data_df . iloc [0][\"question\"]\n",
    "\n",
    "17 results = corr_search ( question , tfidf_vectorizer , top_d =5)\n",
    "\n",
    "18 results [1][\"corr_score\"]"
   ]
  },
  {
   "cell_type": "code",
   "execution_count": 57,
   "metadata": {},
   "outputs": [
    {
     "data": {
      "text/plain": [
       "0.2114579586225163"
      ]
     },
     "execution_count": 57,
     "metadata": {},
     "output_type": "execute_result"
    }
   ],
   "source": [
    "def tfidf_search ( question , tfidf_vectorizer , top_d =5) :\n",
    "# lowercasing before encoding\n",
    "    question = question.lower()\n",
    "    query_embedded = tfidf_vectorizer.transform([question])\n",
    "    corr_scores = cosine_similarity(query_embedded, context_embedded)\n",
    "    corr_scores = corr_scores [0][1:]\n",
    " # Get top k cosine score and index its\n",
    "    results = []\n",
    "    for idx in corr_scores.argsort () [ - top_d :][:: -1]:\n",
    "        doc_score = {\n",
    "                   \"id\": idx ,\n",
    "                   \"corr_scores\": corr_scores [ idx ]\n",
    "                    }\n",
    "        results . append ( doc_score )\n",
    "    return results\n",
    "\n",
    "question = vi_data_df . iloc [0][\"question\"]\n",
    "results = tfidf_search( question,tfidf_vectorizer,top_d =5)\n",
    "results[0][\"corr_scores\"]"
   ]
  }
 ],
 "metadata": {
  "kernelspec": {
   "display_name": "Python 3",
   "language": "python",
   "name": "python3"
  },
  "language_info": {
   "codemirror_mode": {
    "name": "ipython",
    "version": 3
   },
   "file_extension": ".py",
   "mimetype": "text/x-python",
   "name": "python",
   "nbconvert_exporter": "python",
   "pygments_lexer": "ipython3",
   "version": "3.10.9"
  }
 },
 "nbformat": 4,
 "nbformat_minor": 2
}
