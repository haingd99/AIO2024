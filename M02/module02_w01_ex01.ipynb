{
 "cells": [
  {
   "cell_type": "markdown",
   "metadata": {},
   "source": [
    "# AI VIET NAM – COURSE 2024\n",
    "# Numpy - Exercise\n",
    "### Ngày 7 tháng 7 năm 2024"
   ]
  },
  {
   "cell_type": "markdown",
   "metadata": {},
   "source": [
    "Giới thiệu về bài tập: Ở phần bài tập này các bạn sẽ được ôn tập cách sử dụng thư viện numpy\n",
    "để thao tác trên 1D và 2D array. Dựa vào đó để giải quyết các bài toán về xử lý ảnh như chuyển ảnh\n",
    "màu thành ảnh xám và phân tích dữ liệu dạng bảng."
   ]
  },
  {
   "cell_type": "code",
   "execution_count": 2,
   "metadata": {},
   "outputs": [],
   "source": [
    "import numpy as np"
   ]
  },
  {
   "cell_type": "markdown",
   "metadata": {},
   "source": [
    "## Câu hỏi 1: Câu nào sau đây là đúng để tạo mảng 1 chiều từ 0 đến 9\n",
    "\n",
    "a) import numpy as np\n",
    "\n",
    "arr = np. arange (0, 10, 1)\n",
    "\n",
    "b) import numpy as np\n",
    "\n",
    "arr = np. arange (1, 10, 1)\n",
    "\n",
    "c) import numpy as np\n",
    "\n",
    "arr = np. arange (0, 9, 1)\n",
    "\n",
    "d) import numpy as np\n",
    "\n",
    "arr = np. arange (1, 11, 1)"
   ]
  },
  {
   "cell_type": "code",
   "execution_count": 3,
   "metadata": {},
   "outputs": [
    {
     "name": "stdout",
     "output_type": "stream",
     "text": [
      "[0 1 2 3 4 5 6 7 8 9]\n"
     ]
    }
   ],
   "source": [
    "arr = np.arange(0, 10, 1)\n",
    "print(arr)"
   ]
  },
  {
   "cell_type": "markdown",
   "metadata": {},
   "source": [
    "## Câu hỏi 2: Cách tạo một mảng boolean 3x3 với tất cả giá trị là True"
   ]
  },
  {
   "cell_type": "markdown",
   "metadata": {},
   "source": [
    "a) arr = np. ones ((3 ,3) ) > 0\n",
    "\n",
    "b) arr = np. ones ((3 ,3) , dtype = bool )\n",
    "\n",
    "c) arr = np. full ((3 ,3) , fill_value =True , dtype = bool )\n",
    "\n",
    "d) a,b and c"
   ]
  },
  {
   "cell_type": "code",
   "execution_count": 4,
   "metadata": {},
   "outputs": [
    {
     "data": {
      "text/plain": [
       "array([[ True,  True,  True],\n",
       "       [ True,  True,  True],\n",
       "       [ True,  True,  True]])"
      ]
     },
     "execution_count": 4,
     "metadata": {},
     "output_type": "execute_result"
    }
   ],
   "source": [
    "#a)\n",
    "arr = np. ones ((3 ,3) ) > 0\n",
    "arr"
   ]
  },
  {
   "cell_type": "code",
   "execution_count": 5,
   "metadata": {},
   "outputs": [
    {
     "data": {
      "text/plain": [
       "array([[ True,  True,  True],\n",
       "       [ True,  True,  True],\n",
       "       [ True,  True,  True]])"
      ]
     },
     "execution_count": 5,
     "metadata": {},
     "output_type": "execute_result"
    }
   ],
   "source": [
    "# b) \n",
    "arr = np. ones ((3 ,3) , dtype = bool )\n",
    "arr"
   ]
  },
  {
   "cell_type": "code",
   "execution_count": 6,
   "metadata": {},
   "outputs": [
    {
     "data": {
      "text/plain": [
       "array([[ True,  True,  True],\n",
       "       [ True,  True,  True],\n",
       "       [ True,  True,  True]])"
      ]
     },
     "execution_count": 6,
     "metadata": {},
     "output_type": "execute_result"
    }
   ],
   "source": [
    "#c) \n",
    "arr = np. full ((3 ,3) , fill_value =True , dtype = bool )\n",
    "arr"
   ]
  },
  {
   "cell_type": "markdown",
   "metadata": {},
   "source": [
    "Answer d)"
   ]
  },
  {
   "cell_type": "markdown",
   "metadata": {},
   "source": [
    "## Câu hỏi 3: Kết quả của đoạn code sau đây:\n",
    "\n",
    "import numpy as np\n",
    "arr = np. arange (0 ,10)\n",
    "print (arr [arr %2 == 1])\n",
    "\n",
    "a) [1 3 5 7 9]\n",
    "\n",
    "b) [1 2 3 4 5]\n",
    "\n",
    "c) [2 4 6 8 9]\n",
    "\n",
    "d) [1 7 5 7 9]"
   ]
  },
  {
   "cell_type": "markdown",
   "metadata": {},
   "source": [
    "answer: a) [1 3 5 7 9]"
   ]
  },
  {
   "cell_type": "markdown",
   "metadata": {},
   "source": [
    "## Câu hỏi 4: Kết quả của đoạn code sau đây:\n",
    "import numpy as np\n",
    "arr = np. arange (0 ,10)\n",
    "arr [arr %2 ==1] = -1\n",
    "print (arr )\n",
    "\n",
    "a) [ -1 -1 -1 -1 -1 -1 -1 -1 -1 -1]\n",
    "\n",
    "b) [ 0 -1 2 -1 4 -1 6 -1 8 -1]\n",
    "\n",
    "c) [ -1 0 -1 -0 -1 0 -1 0 -1 0]\n",
    "\n",
    "d) [ -1 1 -1 1 -1 1 -1 1 -1 1]"
   ]
  },
  {
   "cell_type": "markdown",
   "metadata": {},
   "source": [
    "Answer: b) [ 0 -1 2 -1 4 -1 6 -1 8 -1]"
   ]
  },
  {
   "cell_type": "markdown",
   "metadata": {},
   "source": [
    "## Câu hỏi 5: Kết quả của đoạn code sau đây:\n",
    "import numpy as np\n",
    "\n",
    "arr = np. arange (10)\n",
    "\n",
    "arr_2d = arr. reshape (2 , -1)\n",
    "\n",
    "print ( arr_2d )\n",
    "\n",
    "a) [[0 1 2 3 4 5 6 7 8 9]]\n",
    "\n",
    "b) [[0 1 2 3 4]\n",
    "\n",
    "    [5 6 7 8 9]]\n",
    "c) [[0 1 2 3 4]]\n",
    "\n",
    "d) [[0 1 2 3]\n",
    "\n",
    "[5 6 7 8]]"
   ]
  },
  {
   "cell_type": "code",
   "execution_count": 7,
   "metadata": {},
   "outputs": [
    {
     "name": "stdout",
     "output_type": "stream",
     "text": [
      "[[0 1 2 3 4]\n",
      " [5 6 7 8 9]]\n"
     ]
    }
   ],
   "source": [
    "arr = np. arange (10)\n",
    "\n",
    "arr_2d = arr. reshape (2 , -1)\n",
    "\n",
    "print ( arr_2d )"
   ]
  },
  {
   "cell_type": "markdown",
   "metadata": {},
   "source": [
    "## Câu hỏi 6: Kết quả của đoạn code sau đây:\n",
    "1 import numpy as np\n",
    "\n",
    "2 arr1 = np. arange (10) . reshape (2 , -1)\n",
    "\n",
    "3 arr2 = np. repeat (1 ,10). reshape (2 , -1)\n",
    "\n",
    "4 c = np. concatenate ([ arr1 , arr2 ], axis =0)\n",
    "\n",
    "5 print (\" Result : \\n\", c)\n",
    "\n",
    "a) [[0 1 2 3 4]\n",
    "\n",
    "[5 6 7 8 9]\n",
    "\n",
    "[1 1 1 1 1]\n",
    "\n",
    "[1 1 1 1 1]]\n",
    "\n",
    "b) [[0 1 2 3 4]\n",
    "\n",
    "[5 6 7 8 9]]\n",
    "\n",
    "c) [[0 1 2 3 4]\n",
    "\n",
    "[5 6 7 8 9]\n",
    "\n",
    "[1 1 1 1 1]\n",
    "\n",
    "[5 6 7 8 9]]\n",
    "\n",
    "d) [[0 1 2 3 4]]"
   ]
  },
  {
   "cell_type": "code",
   "execution_count": 8,
   "metadata": {},
   "outputs": [
    {
     "name": "stdout",
     "output_type": "stream",
     "text": [
      " Result : \n",
      " [[0 1 2 3 4]\n",
      " [5 6 7 8 9]\n",
      " [1 1 1 1 1]\n",
      " [1 1 1 1 1]]\n"
     ]
    }
   ],
   "source": [
    "arr1 = np. arange (10) . reshape (2 , -1)\n",
    "\n",
    "arr2 = np. repeat (1 ,10). reshape (2 , -1)\n",
    "\n",
    "c = np. concatenate ([ arr1 , arr2 ], axis =0)\n",
    "\n",
    "print (\" Result : \\n\", c)"
   ]
  },
  {
   "cell_type": "markdown",
   "metadata": {},
   "source": [
    "answer: a)"
   ]
  },
  {
   "cell_type": "markdown",
   "metadata": {},
   "source": [
    "## Câu hỏi 7: Kết quả của đoạn code sau đây:\n",
    "import numpy as np\n",
    "\n",
    "arr1 = np.arange (10).reshape (2,-1)\n",
    "\n",
    "arr2 = np.repeat (1 ,10).reshape (2,-1)\n",
    "\n",
    "c = np.concatenate ([arr1 ,arr2],axis =1)\n",
    "\n",
    "print(\"C = \", c)\n",
    "\n",
    "\n",
    "a) [[0 2 2 2 2 1 1 1 1 1]\n",
    "    \n",
    "[5 6 7 8 9 1 1 1 1 1]]\n",
    "\n",
    "b) [[1 1 1 1 1 1 1 1 1 1]\n",
    "    \n",
    "[5 6 7 8 9 5 6 7 8 9]]\n",
    "\n",
    "c) [[0 1 2 3 4 1 1 1 1 1]\n",
    "    \n",
    "[5 6 7 8 9 1 1 1 1 1]]\n",
    "\n",
    "d) [[0 2 2 2 2 1 1 1 1 1]\n",
    "    \n",
    "[2 2 2 2 1 1 1 1 1 1]]"
   ]
  },
  {
   "cell_type": "code",
   "execution_count": 9,
   "metadata": {},
   "outputs": [
    {
     "name": "stdout",
     "output_type": "stream",
     "text": [
      "C =  [[0 1 2 3 4 1 1 1 1 1]\n",
      " [5 6 7 8 9 1 1 1 1 1]]\n"
     ]
    }
   ],
   "source": [
    "arr1 = np.arange (10).reshape (2,-1)\n",
    "\n",
    "arr2 = np.repeat (1 ,10).reshape (2,-1)\n",
    "\n",
    "c = np.concatenate ([arr1 ,arr2],axis =1)\n",
    "\n",
    "print(\"C = \", c)"
   ]
  },
  {
   "cell_type": "markdown",
   "metadata": {},
   "source": [
    "## Câu hỏi 8: Kết quả của đoạn code sau đây:\n"
   ]
  },
  {
   "cell_type": "code",
   "execution_count": 10,
   "metadata": {},
   "outputs": [
    {
     "name": "stdout",
     "output_type": "stream",
     "text": [
      "[1 1 1 2 2 2 3 3 3]\n",
      "[1 2 3 1 2 3 1 2 3]\n"
     ]
    }
   ],
   "source": [
    "import numpy as np\n",
    "arr = np.array ([1,2,3])\n",
    "print(np.repeat(arr ,3))\n",
    "print(np.tile(arr ,3))"
   ]
  },
  {
   "cell_type": "markdown",
   "metadata": {},
   "source": [
    "## Câu hỏi 9: Kết quả của đoạn code sau đây:\n",
    "a) [ 3 9 10]\n",
    "\n",
    "b) [ 1 9 10]\n",
    "\n",
    "c) [ 6 9 10]\n",
    "\n",
    "d) [ 2 1 10]"
   ]
  },
  {
   "cell_type": "code",
   "execution_count": 11,
   "metadata": {},
   "outputs": [
    {
     "name": "stdout",
     "output_type": "stream",
     "text": [
      "result [ 6  9 10]\n"
     ]
    }
   ],
   "source": [
    "import numpy as np\n",
    "a = np.array ([2,6,1,9,10,3,27])\n",
    "index = np.where ((a>=5)&(a <=10))\n",
    "print(\"result\", a[index])"
   ]
  },
  {
   "cell_type": "markdown",
   "metadata": {},
   "source": [
    "## Câu hỏi 10: Kết quả của đoạn code sau đây:\n",
    "\n",
    "a) [5, 7, 9, 8, 6, 4, 5]\n",
    "\n",
    "b) [6, 3, 4, 8, 9, 7, 1]\n",
    "\n",
    "c) [6. 8. 9. 8. 7. 7. 5.]\n",
    "\n",
    "d) [6. 7. 9. 8. 9. 7. 5.]"
   ]
  },
  {
   "cell_type": "code",
   "execution_count": 12,
   "metadata": {},
   "outputs": [
    {
     "name": "stdout",
     "output_type": "stream",
     "text": [
      "[6. 7. 9. 8. 9. 7. 5.]\n"
     ]
    }
   ],
   "source": [
    "import numpy as np\n",
    "def maxx(x,y):\n",
    "    if x >= y :\n",
    "        return x\n",
    "    else:\n",
    "        return y\n",
    "\n",
    "a = np.array ([5,7,9,8,6,4,5])\n",
    "b = np.array ([6,3,4,8,9,7,1])\n",
    "\n",
    "pair_max = np.vectorize(maxx ,otypes =[float])\n",
    "print(pair_max(a,b))\n",
    "\n"
   ]
  },
  {
   "cell_type": "markdown",
   "metadata": {},
   "source": [
    "### Câu hỏi 11: Kết quả của đoạn code sau đây:\n",
    "\n",
    "a) [6. 7. 9. 8. 9. 7. 5.]\n",
    "\n",
    "b) [5, 7, 9, 8, 6, 4, 5]\n",
    "\n",
    "c) [6, 3, 4, 8, 9, 7, 1]\n",
    "\n",
    "d) [6. 8. 9. 8. 7. 7. 5.]\n",
    "\n"
   ]
  },
  {
   "cell_type": "code",
   "execution_count": 13,
   "metadata": {},
   "outputs": [
    {
     "name": "stdout",
     "output_type": "stream",
     "text": [
      "Result [6 7 9 8 9 7 5]\n"
     ]
    }
   ],
   "source": [
    "import numpy as np\n",
    "a = np.array ([5,7,9,8,6,4,5])\n",
    "b = np.array ([6,3,4,8,9,7,1])\n",
    "\n",
    "print(\"Result\",np.where(a<b, b, a))"
   ]
  },
  {
   "cell_type": "markdown",
   "metadata": {},
   "source": [
    "## Bài tập 2: Xử lý ảnh\n",
    "Ảnh sẽ được biểu diễn bởi tập các điểm ảnh (Pixel) có giá trị từ 0 đến 255. Ảnh màu sẽ được biểu\n",
    "diễn thành ma trận có kích thước (Height, Width, Channel); trong đó số Channel là 3 tương ứng là giá\n",
    "trị biểu diễn cho các kênh màu R-Red, G-Green, B-Blue. Ảnh xám sẽ được biểu diễn thành ma trận\n",
    "có kích thước (Height, Width). Vì vậy, để chuyển ảnh màu thành ảnh xám, chúng ta sẽ tổng hợp từ 3\n",
    "kênh màu RGB thành 1 giá trị duy nhất trong khoảng 0 đến 255. Có 3 phương pháp chính để tính giá\n",
    "trị chuyển đổi:\n",
    "\n",
    "* Lightness: Tính giá trị trung bình của giá trị lớn nhất và nhỏ nhất cho các kênh màu: (max(R,G,B)+ min(R,G,B))/2\n",
    "\n",
    "* Average: Tính giá trị trung bình của 3 kênh màu: (R+G+B)/3\n",
    "\n",
    "* Luminosity: Nhân hệ số tương ứng của 3 kênh màu như sau: 0.21*R + 0.72*G + 0.07*B"
   ]
  },
  {
   "cell_type": "markdown",
   "metadata": {},
   "source": [
    "### Câu hỏi 12: Hoàn thành đoạn code sau đây để chuyển ảnh màu sang ảnh xám dựa vào phương pháp Lightness:\n",
    "\n",
    "a) [102.5]\n",
    "\n",
    "b) [92.5]\n",
    "\n",
    "c) [82.5]\n",
    "\n",
    "d) [72.5]\n"
   ]
  },
  {
   "cell_type": "code",
   "execution_count": 14,
   "metadata": {},
   "outputs": [
    {
     "data": {
      "text/plain": [
       "102.5"
      ]
     },
     "execution_count": 14,
     "metadata": {},
     "output_type": "execute_result"
    }
   ],
   "source": [
    "import matplotlib.image as mpimg\n",
    "img = mpimg.imread('dog.jpg')\n",
    "gray_img_01 = (np.max(img, axis=2) + np.min(img, axis=2))/2\n",
    "gray_img_01 [0, 0]\n"
   ]
  },
  {
   "cell_type": "markdown",
   "metadata": {},
   "source": [
    "### Câu hỏi 13: Hoàn thành đoạn code sau đây để chuyển ảnh màu sang ảnh xám dựa vào phương pháp Average:\n",
    "\n",
    "a) [107.7]\n",
    "\n",
    "b) [97.7]\n",
    "\n",
    "c) [87.7]\n",
    "\n",
    "d) [77.7]"
   ]
  },
  {
   "cell_type": "code",
   "execution_count": 21,
   "metadata": {},
   "outputs": [
    {
     "data": {
      "text/plain": [
       "107.66666666666667"
      ]
     },
     "execution_count": 21,
     "metadata": {},
     "output_type": "execute_result"
    }
   ],
   "source": [
    "import matplotlib.image as mpimg\n",
    "img = mpimg.imread('dog.jpg')\n",
    "gray_img_02 = (np.mean(img, axis=2))\n",
    "gray_img_02 [0, 0]"
   ]
  },
  {
   "cell_type": "markdown",
   "metadata": {},
   "source": [
    "### Câu hỏi 14: Hoàn thành đoạn code sau đây để chuyển ảnh màu sang ảnh xám dựa vào phương pháp Luminosity:\n",
    "\n",
    "a) [96.2]\n",
    "\n",
    "b) [116.2]\n",
    "\n",
    "c) [126.2]\n",
    "\n",
    "d) [136.2]"
   ]
  },
  {
   "cell_type": "code",
   "execution_count": 34,
   "metadata": {},
   "outputs": [
    {
     "data": {
      "text/plain": [
       "126.22999999999999"
      ]
     },
     "execution_count": 34,
     "metadata": {},
     "output_type": "execute_result"
    }
   ],
   "source": [
    "import matplotlib.image as mpimg\n",
    "img = mpimg.imread('dog.jpg')\n",
    "gray_img_03 = 0.21*img[:,:,0] + 0.72*img[:,:,1] + 0.07*img[:,:,2]\n",
    "gray_img_03[0, 0]\n",
    "\n"
   ]
  },
  {
   "attachments": {
    "image.png": {
     "image/png": "[encoded data removed]"
    }
   },
   "cell_type": "markdown",
   "metadata": {},
   "source": [
    "## Bài tập 3: Phân tích dữ liệu dạng bảng\n",
    "Các câu hỏi phần này ứng dụng numpy trong phân tích dữ liệu dạng bảng, được mô tả gồm các cột và một số hàng như sau:\n",
    "\n",
    "![image.png](attachment:image.png)\n"
   ]
  },
  {
   "cell_type": "code",
   "execution_count": 37,
   "metadata": {},
   "outputs": [
    {
     "data": {
      "text/html": [
       "<div>\n",
       "<style scoped>\n",
       "    .dataframe tbody tr th:only-of-type {\n",
       "        vertical-align: middle;\n",
       "    }\n",
       "\n",
       "    .dataframe tbody tr th {\n",
       "        vertical-align: top;\n",
       "    }\n",
       "\n",
       "    .dataframe thead th {\n",
       "        text-align: right;\n",
       "    }\n",
       "</style>\n",
       "<table border=\"1\" class=\"dataframe\">\n",
       "  <thead>\n",
       "    <tr style=\"text-align: right;\">\n",
       "      <th></th>\n",
       "      <th>TV</th>\n",
       "      <th>Radio</th>\n",
       "      <th>Newspaper</th>\n",
       "      <th>Sales</th>\n",
       "    </tr>\n",
       "  </thead>\n",
       "  <tbody>\n",
       "    <tr>\n",
       "      <th>0</th>\n",
       "      <td>230.1</td>\n",
       "      <td>37.8</td>\n",
       "      <td>69.2</td>\n",
       "      <td>22.1</td>\n",
       "    </tr>\n",
       "    <tr>\n",
       "      <th>1</th>\n",
       "      <td>44.5</td>\n",
       "      <td>39.3</td>\n",
       "      <td>45.1</td>\n",
       "      <td>10.4</td>\n",
       "    </tr>\n",
       "    <tr>\n",
       "      <th>2</th>\n",
       "      <td>17.2</td>\n",
       "      <td>45.9</td>\n",
       "      <td>69.3</td>\n",
       "      <td>12.0</td>\n",
       "    </tr>\n",
       "    <tr>\n",
       "      <th>3</th>\n",
       "      <td>151.5</td>\n",
       "      <td>41.3</td>\n",
       "      <td>58.5</td>\n",
       "      <td>16.5</td>\n",
       "    </tr>\n",
       "    <tr>\n",
       "      <th>4</th>\n",
       "      <td>180.8</td>\n",
       "      <td>10.8</td>\n",
       "      <td>58.4</td>\n",
       "      <td>17.9</td>\n",
       "    </tr>\n",
       "  </tbody>\n",
       "</table>\n",
       "</div>"
      ],
      "text/plain": [
       "      TV  Radio  Newspaper  Sales\n",
       "0  230.1   37.8       69.2   22.1\n",
       "1   44.5   39.3       45.1   10.4\n",
       "2   17.2   45.9       69.3   12.0\n",
       "3  151.5   41.3       58.5   16.5\n",
       "4  180.8   10.8       58.4   17.9"
      ]
     },
     "execution_count": 37,
     "metadata": {},
     "output_type": "execute_result"
    }
   ],
   "source": [
    "import pandas as pd\n",
    "df = pd.read_csv(\"advertising.csv\")\n",
    "df.head()"
   ]
  },
  {
   "cell_type": "markdown",
   "metadata": {},
   "source": [
    "### Câu hỏi 15: Lấy giá trị lớn nhất và chỉ mục tương ứng của nó trên cột Sales:\n",
    "\n",
    "a) Max: 25 - Index: 30\n",
    "\n",
    "b) Max: 27 - Index: 30\n",
    "\n",
    "c) Max: 27 - Index: 175\n",
    "\n",
    "d) Max: 25 - Index: 175"
   ]
  },
  {
   "cell_type": "code",
   "execution_count": 42,
   "metadata": {},
   "outputs": [
    {
     "data": {
      "text/plain": [
       "array([22.1, 10.4, 12. , 16.5, 17.9,  7.2, 11.8, 13.2,  4.8, 15.6])"
      ]
     },
     "execution_count": 42,
     "metadata": {},
     "output_type": "execute_result"
    }
   ],
   "source": [
    "data = df.to_numpy()\n",
    "df_sales = data[:,3]\n",
    "df_sales[:10]"
   ]
  },
  {
   "cell_type": "code",
   "execution_count": 46,
   "metadata": {},
   "outputs": [
    {
     "name": "stdout",
     "output_type": "stream",
     "text": [
      "Max: 27.0 - Index: 175\n"
     ]
    }
   ],
   "source": [
    "m = df_sales.max()\n",
    "m_idx = np.where(df_sales == m)[0]\n",
    "print(f\"Max: {m} - Index: {m_idx[0]}\")"
   ]
  },
  {
   "cell_type": "markdown",
   "metadata": {},
   "source": [
    "### Câu hỏi 16: Giá trị trung bình của cột TV là:\n",
    "\n",
    "a) 146.0\n",
    "\n",
    "b) 147.0\n",
    "\n",
    "c) 148.0\n",
    "\n",
    "d) 149.0"
   ]
  },
  {
   "cell_type": "code",
   "execution_count": 47,
   "metadata": {},
   "outputs": [
    {
     "name": "stdout",
     "output_type": "stream",
     "text": [
      "147.0425\n"
     ]
    }
   ],
   "source": [
    "df_tv = data[:,0]\n",
    "print(df_tv.mean())"
   ]
  },
  {
   "cell_type": "markdown",
   "metadata": {},
   "source": [
    "### Câu hỏi 17: Số lượng bản ghi có giá trị tại cột Sales lớn hơn hoặc bằng 20 là:\n",
    "\n",
    "a) 40\n",
    "\n",
    "b) 41\n",
    "\n",
    "c) 42\n",
    "\n",
    "d) 43"
   ]
  },
  {
   "cell_type": "code",
   "execution_count": 50,
   "metadata": {},
   "outputs": [
    {
     "name": "stdout",
     "output_type": "stream",
     "text": [
      "40\n"
     ]
    }
   ],
   "source": [
    "sales_20 = np.where(df_sales >= 20)\n",
    "print(len(sales_20[0]))"
   ]
  },
  {
   "cell_type": "markdown",
   "metadata": {},
   "source": [
    "### Câu hỏi 18: Tính giá trị trung bình của cột Radio thoả mãn điều kiện giá trị tương ứng trên cột Sales lớn hơn hoặc bằng 15:\n",
    "\n",
    "a) 25.2\n",
    "\n",
    "b) 26.2\n",
    "\n",
    "c) 27.2\n",
    "\n",
    "d) 28.2"
   ]
  },
  {
   "cell_type": "code",
   "execution_count": 53,
   "metadata": {},
   "outputs": [
    {
     "data": {
      "text/plain": [
       "26.22293577981651"
      ]
     },
     "execution_count": 53,
     "metadata": {},
     "output_type": "execute_result"
    }
   ],
   "source": [
    "df_radio = data[:,1]\n",
    "df_radio[df_sales >= 15].mean()"
   ]
  },
  {
   "cell_type": "markdown",
   "metadata": {},
   "source": [
    "### Câu hỏi 19: Tính tổng các hàng của cột Sales với điều kiện giá trị Newspaper lớn hơn giá trị trung bình của cột Newspaper:\n",
    "\n",
    "a) 1403.1\n",
    "\n",
    "b) 1404.1\n",
    "\n",
    "c) 1405.1\n",
    "\n",
    "d) 1406.1"
   ]
  },
  {
   "cell_type": "code",
   "execution_count": 52,
   "metadata": {},
   "outputs": [
    {
     "data": {
      "text/plain": [
       "1405.1"
      ]
     },
     "execution_count": 52,
     "metadata": {},
     "output_type": "execute_result"
    }
   ],
   "source": [
    "df_news = data[:,2]\n",
    "news_mean = df_news.mean()\n",
    "\n",
    "df_sales[df_news >= news_mean].sum()"
   ]
  },
  {
   "cell_type": "markdown",
   "metadata": {},
   "source": [
    "### Câu hỏi 20: Gọi giá trị trung bình của cột Sales là A. Tạo ra mảng mới scores chứa các giá trị Good, Average và Bad sao cho: nếu giá trị hiện tại > A => giá trị trong mảng mới là Good, < A thì sẽ là Bad và = A sẽ là Average. Sau đó in ra kết quả scores[7:10]\n",
    "\n",
    "a) [’Bad ’, ’Good ’, ’Good ’]\n",
    "\n",
    "b) [’Good ’, ’Bad ’, ’Good ’]\n",
    "\n",
    "c) [’Bad ’, ’Bad ’, ’Good ’]\n",
    "\n",
    "d) [’Bad ’, ’Bad ’, ’Bad ’]"
   ]
  },
  {
   "cell_type": "code",
   "execution_count": 57,
   "metadata": {},
   "outputs": [
    {
     "data": {
      "text/plain": [
       "array(['B', 'B', 'G'], dtype='<U1')"
      ]
     },
     "execution_count": 57,
     "metadata": {},
     "output_type": "execute_result"
    }
   ],
   "source": [
    "A = df_sales.mean()\n",
    "\n",
    "score = np.empty_like(df_sales, dtype=str)\n",
    "\n",
    "score[df_sales > A] = \"Good\"\n",
    "score[df_sales < A] = \"Bad\"\n",
    "score[df_sales == A] = \"Avg\"\n",
    "\n",
    "score[7:10]"
   ]
  },
  {
   "cell_type": "markdown",
   "metadata": {},
   "source": [
    "### Câu hỏi 21: Gọi giá trị trên cột Sales gần nhất với giá trị trung bình cũng chính cột Sales là A. Tạo ra mảng mới scores chứa các giá trị Good, Average và Bad sao cho: nếu giá trị hiện tại > A => giá trị trong mảng mới là Good, < A thì sẽ là Bad và = A sẽ là Average. Sau đó in ra kết quả scores[7:10]"
   ]
  },
  {
   "cell_type": "code",
   "execution_count": 70,
   "metadata": {},
   "outputs": [
    {
     "data": {
      "text/plain": [
       "array(['B', 'B', 'G'], dtype='<U1')"
      ]
     },
     "execution_count": 70,
     "metadata": {},
     "output_type": "execute_result"
    }
   ],
   "source": [
    "A = df_sales.mean()\n",
    "NA = df_sales[abs(df_sales - A).argmin()]\n",
    "score = np.empty_like(df_sales, dtype=str)\n",
    "\n",
    "score[df_sales > NA] = \"Good\"\n",
    "score[df_sales < NA] = \"Bad\"\n",
    "score[df_sales == NA] = \"Avg\"\n",
    "\n",
    "score[7:10]\n"
   ]
  },
  {
   "cell_type": "code",
   "execution_count": null,
   "metadata": {},
   "outputs": [],
   "source": []
  }
 ],
 "metadata": {
  "kernelspec": {
   "display_name": "Python 3",
   "language": "python",
   "name": "python3"
  },
  "language_info": {
   "codemirror_mode": {
    "name": "ipython",
    "version": 3
   },
   "file_extension": ".py",
   "mimetype": "text/x-python",
   "name": "python",
   "nbconvert_exporter": "python",
   "pygments_lexer": "ipython3",
   "version": "3.10.9"
  }
 },
 "nbformat": 4,
 "nbformat_minor": 2
}
