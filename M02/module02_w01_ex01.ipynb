{
 "cells": [
  {
   "cell_type": "markdown",
   "metadata": {},
   "source": [
    "# AI VIET NAM – COURSE 2024\n",
    "# Numpy - Exercise\n",
    "### Ngày 7 tháng 7 năm 2024"
   ]
  },
  {
   "cell_type": "markdown",
   "metadata": {},
   "source": [
    "Giới thiệu về bài tập: Ở phần bài tập này các bạn sẽ được ôn tập cách sử dụng thư viện numpy\n",
    "để thao tác trên 1D và 2D array. Dựa vào đó để giải quyết các bài toán về xử lý ảnh như chuyển ảnh\n",
    "màu thành ảnh xám và phân tích dữ liệu dạng bảng."
   ]
  },
  {
   "cell_type": "code",
   "execution_count": 1,
   "metadata": {},
   "outputs": [],
   "source": [
    "import numpy as np"
   ]
  },
  {
   "cell_type": "markdown",
   "metadata": {},
   "source": [
    "## Câu hỏi 1: Câu nào sau đây là đúng để tạo mảng 1 chiều từ 0 đến 9\n",
    "\n",
    "a) import numpy as np\n",
    "\n",
    "arr = np. arange (0, 10, 1)\n",
    "\n",
    "b) import numpy as np\n",
    "\n",
    "arr = np. arange (1, 10, 1)\n",
    "\n",
    "c) import numpy as np\n",
    "\n",
    "arr = np. arange (0, 9, 1)\n",
    "\n",
    "d) import numpy as np\n",
    "\n",
    "arr = np. arange (1, 11, 1)"
   ]
  },
  {
   "cell_type": "code",
   "execution_count": 5,
   "metadata": {},
   "outputs": [
    {
     "name": "stdout",
     "output_type": "stream",
     "text": [
      "[0 1 2 3 4 5 6 7 8 9]\n"
     ]
    }
   ],
   "source": [
    "arr = np.arange(0, 10, 1)\n",
    "print(arr)"
   ]
  },
  {
   "cell_type": "markdown",
   "metadata": {},
   "source": [
    "## Câu hỏi 2: Cách tạo một mảng boolean 3x3 với tất cả giá trị là True"
   ]
  },
  {
   "cell_type": "markdown",
   "metadata": {},
   "source": [
    "a) arr = np. ones ((3 ,3) ) > 0\n",
    "\n",
    "b) arr = np. ones ((3 ,3) , dtype = bool )\n",
    "\n",
    "c) arr = np. full ((3 ,3) , fill_value =True , dtype = bool )\n",
    "\n",
    "d) a,b and c"
   ]
  },
  {
   "cell_type": "code",
   "execution_count": 7,
   "metadata": {},
   "outputs": [
    {
     "data": {
      "text/plain": [
       "array([[ True,  True,  True],\n",
       "       [ True,  True,  True],\n",
       "       [ True,  True,  True]])"
      ]
     },
     "execution_count": 7,
     "metadata": {},
     "output_type": "execute_result"
    }
   ],
   "source": [
    "#a)\n",
    "arr = np. ones ((3 ,3) ) > 0\n",
    "arr"
   ]
  },
  {
   "cell_type": "code",
   "execution_count": 9,
   "metadata": {},
   "outputs": [
    {
     "data": {
      "text/plain": [
       "array([[ True,  True,  True],\n",
       "       [ True,  True,  True],\n",
       "       [ True,  True,  True]])"
      ]
     },
     "execution_count": 9,
     "metadata": {},
     "output_type": "execute_result"
    }
   ],
   "source": [
    "# b) \n",
    "arr = np. ones ((3 ,3) , dtype = bool )\n",
    "arr"
   ]
  },
  {
   "cell_type": "code",
   "execution_count": 10,
   "metadata": {},
   "outputs": [
    {
     "data": {
      "text/plain": [
       "array([[ True,  True,  True],\n",
       "       [ True,  True,  True],\n",
       "       [ True,  True,  True]])"
      ]
     },
     "execution_count": 10,
     "metadata": {},
     "output_type": "execute_result"
    }
   ],
   "source": [
    "#c) \n",
    "arr = np. full ((3 ,3) , fill_value =True , dtype = bool )\n",
    "arr"
   ]
  },
  {
   "cell_type": "markdown",
   "metadata": {},
   "source": [
    "Answer d)"
   ]
  },
  {
   "cell_type": "markdown",
   "metadata": {},
   "source": [
    "## Câu hỏi 3: Kết quả của đoạn code sau đây:\n",
    "\n",
    "import numpy as np\n",
    "arr = np. arange (0 ,10)\n",
    "print (arr [arr %2 == 1])\n",
    "\n",
    "a) [1 3 5 7 9]\n",
    "\n",
    "b) [1 2 3 4 5]\n",
    "\n",
    "c) [2 4 6 8 9]\n",
    "\n",
    "d) [1 7 5 7 9]"
   ]
  },
  {
   "cell_type": "markdown",
   "metadata": {},
   "source": [
    "answer: a) [1 3 5 7 9]"
   ]
  },
  {
   "cell_type": "markdown",
   "metadata": {},
   "source": [
    "## Câu hỏi 4: Kết quả của đoạn code sau đây:\n",
    "import numpy as np\n",
    "arr = np. arange (0 ,10)\n",
    "arr [arr %2 ==1] = -1\n",
    "print (arr )\n",
    "\n",
    "a) [ -1 -1 -1 -1 -1 -1 -1 -1 -1 -1]\n",
    "\n",
    "b) [ 0 -1 2 -1 4 -1 6 -1 8 -1]\n",
    "\n",
    "c) [ -1 0 -1 -0 -1 0 -1 0 -1 0]\n",
    "\n",
    "d) [ -1 1 -1 1 -1 1 -1 1 -1 1]"
   ]
  },
  {
   "cell_type": "markdown",
   "metadata": {},
   "source": [
    "Answer: b) [ 0 -1 2 -1 4 -1 6 -1 8 -1]"
   ]
  },
  {
   "cell_type": "markdown",
   "metadata": {},
   "source": [
    "## Câu hỏi 5: Kết quả của đoạn code sau đây:\n",
    "import numpy as np\n",
    "\n",
    "arr = np. arange (10)\n",
    "\n",
    "arr_2d = arr. reshape (2 , -1)\n",
    "\n",
    "print ( arr_2d )\n",
    "\n",
    "a) [[0 1 2 3 4 5 6 7 8 9]]\n",
    "\n",
    "b) [[0 1 2 3 4]\n",
    "\n",
    "    [5 6 7 8 9]]\n",
    "c) [[0 1 2 3 4]]\n",
    "\n",
    "d) [[0 1 2 3]\n",
    "\n",
    "[5 6 7 8]]"
   ]
  },
  {
   "cell_type": "code",
   "execution_count": 11,
   "metadata": {},
   "outputs": [
    {
     "name": "stdout",
     "output_type": "stream",
     "text": [
      "[[0 1 2 3 4]\n",
      " [5 6 7 8 9]]\n"
     ]
    }
   ],
   "source": [
    "arr = np. arange (10)\n",
    "\n",
    "arr_2d = arr. reshape (2 , -1)\n",
    "\n",
    "print ( arr_2d )"
   ]
  },
  {
   "cell_type": "markdown",
   "metadata": {},
   "source": [
    "## Câu hỏi 6: Kết quả của đoạn code sau đây:\n",
    "1 import numpy as np\n",
    "\n",
    "2 arr1 = np. arange (10) . reshape (2 , -1)\n",
    "\n",
    "3 arr2 = np. repeat (1 ,10). reshape (2 , -1)\n",
    "\n",
    "4 c = np. concatenate ([ arr1 , arr2 ], axis =0)\n",
    "\n",
    "5 print (\" Result : \\n\", c)\n",
    "\n",
    "a) [[0 1 2 3 4]\n",
    "\n",
    "[5 6 7 8 9]\n",
    "\n",
    "[1 1 1 1 1]\n",
    "\n",
    "[1 1 1 1 1]]\n",
    "\n",
    "b) [[0 1 2 3 4]\n",
    "\n",
    "[5 6 7 8 9]]\n",
    "\n",
    "c) [[0 1 2 3 4]\n",
    "\n",
    "[5 6 7 8 9]\n",
    "\n",
    "[1 1 1 1 1]\n",
    "\n",
    "[5 6 7 8 9]]\n",
    "\n",
    "d) [[0 1 2 3 4]]"
   ]
  },
  {
   "cell_type": "markdown",
   "metadata": {},
   "source": [
    "answer: a)"
   ]
  },
  {
   "cell_type": "code",
   "execution_count": 12,
   "metadata": {},
   "outputs": [
    {
     "name": "stdout",
     "output_type": "stream",
     "text": [
      " Result : \n",
      " [[0 1 2 3 4]\n",
      " [5 6 7 8 9]\n",
      " [1 1 1 1 1]\n",
      " [1 1 1 1 1]]\n"
     ]
    }
   ],
   "source": [
    "arr1 = np. arange (10) . reshape (2 , -1)\n",
    "\n",
    "arr2 = np. repeat (1 ,10). reshape (2 , -1)\n",
    "\n",
    "c = np. concatenate ([ arr1 , arr2 ], axis =0)\n",
    "\n",
    "print (\" Result : \\n\", c)"
   ]
  },
  {
   "cell_type": "code",
   "execution_count": null,
   "metadata": {},
   "outputs": [],
   "source": []
  }
 ],
 "metadata": {
  "kernelspec": {
   "display_name": "Python 3",
   "language": "python",
   "name": "python3"
  },
  "language_info": {
   "codemirror_mode": {
    "name": "ipython",
    "version": 3
   },
   "file_extension": ".py",
   "mimetype": "text/x-python",
   "name": "python",
   "nbconvert_exporter": "python",
   "pygments_lexer": "ipython3",
   "version": "3.10.9"
  }
 },
 "nbformat": 4,
 "nbformat_minor": 2
}
